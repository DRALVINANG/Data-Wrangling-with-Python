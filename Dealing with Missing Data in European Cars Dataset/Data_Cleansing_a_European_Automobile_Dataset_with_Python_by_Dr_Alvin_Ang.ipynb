{
  "nbformat": 4,
  "nbformat_minor": 0,
  "metadata": {
    "colab": {
      "name": "Data Cleansing a European Automobile Dataset with Python by Dr. Alvin Ang.ipynb",
      "provenance": [],
      "collapsed_sections": [],
      "toc_visible": true
    },
    "kernelspec": {
      "name": "python3",
      "display_name": "Python 3"
    },
    "language_info": {
      "name": "python"
    }
  },
  "cells": [
    {
      "cell_type": "markdown",
      "source": [
        "https://www.alvinang.sg/s/auto.csv"
      ],
      "metadata": {
        "id": "Q1-6FoCTdPZy"
      }
    },
    {
      "cell_type": "markdown",
      "source": [
        "\n",
        "\n",
        "---\n",
        "\n"
      ],
      "metadata": {
        "id": "IeZ8xTNjdNtx"
      }
    },
    {
      "cell_type": "markdown",
      "source": [
        "#Step 1: Previewing Data"
      ],
      "metadata": {
        "id": "5SZvOqq7AhAu"
      }
    },
    {
      "cell_type": "markdown",
      "source": [
        "##1a): Import All Libraries"
      ],
      "metadata": {
        "id": "SmmpEicWpgjl"
      }
    },
    {
      "cell_type": "code",
      "source": [
        "import pandas as pd\n",
        "import missingno as msno\n",
        "import matplotlib.pylab as plt\n",
        "%matplotlib inline"
      ],
      "metadata": {
        "id": "uLOqIiatL8vS"
      },
      "execution_count": 25,
      "outputs": []
    },
    {
      "cell_type": "markdown",
      "source": [
        "##1b) Load the Data and Preview"
      ],
      "metadata": {
        "id": "YC9Q8Uxxpi5p"
      }
    },
    {
      "cell_type": "code",
      "execution_count": 26,
      "metadata": {
        "colab": {
          "base_uri": "https://localhost:8080/",
          "height": 352
        },
        "id": "1zJWF-tqXHCq",
        "outputId": "ac944e6f-3cd4-49fa-ca03-70a742a903c8"
      },
      "outputs": [
        {
          "output_type": "execute_result",
          "data": {
            "text/plain": [
              "     symboling normalized-losses           make fuel-type aspiration  \\\n",
              "183          2               122     volkswagen       gas        std   \n",
              "177         -1                65         toyota       gas        std   \n",
              "185          2                94     volkswagen       gas        std   \n",
              "68          -1                93  mercedes-benz    diesel      turbo   \n",
              "59           1               129          mazda       gas        std   \n",
              "\n",
              "    num-of-doors body-style drive-wheels engine-location  wheel-base  ...  \\\n",
              "183          two      sedan          fwd           front        97.3  ...   \n",
              "177         four  hatchback          fwd           front       102.4  ...   \n",
              "185         four      sedan          fwd           front        97.3  ...   \n",
              "68          four      wagon          rwd           front       110.0  ...   \n",
              "59           two  hatchback          fwd           front        98.8  ...   \n",
              "\n",
              "     engine-size  fuel-system  bore  stroke compression-ratio horsepower  \\\n",
              "183          109         mpfi  3.19    3.40               9.0         85   \n",
              "177          122         mpfi  3.31    3.54               8.7         92   \n",
              "185          109         mpfi  3.19    3.40               9.0         85   \n",
              "68           183          idi  3.58    3.64              21.5        123   \n",
              "59           122         2bbl  3.39    3.39               8.6         84   \n",
              "\n",
              "     peak-rpm city-mpg highway-mpg  price  \n",
              "183      5250       27          34   7975  \n",
              "177      4200       27          32  11248  \n",
              "185      5250       27          34   8195  \n",
              "68       4350       22          25  28248  \n",
              "59       4800       26          32   8845  \n",
              "\n",
              "[5 rows x 26 columns]"
            ],
            "text/html": [
              "\n",
              "  <div id=\"df-2c66a9fb-acab-4350-a9cb-d1e6a76918c9\">\n",
              "    <div class=\"colab-df-container\">\n",
              "      <div>\n",
              "<style scoped>\n",
              "    .dataframe tbody tr th:only-of-type {\n",
              "        vertical-align: middle;\n",
              "    }\n",
              "\n",
              "    .dataframe tbody tr th {\n",
              "        vertical-align: top;\n",
              "    }\n",
              "\n",
              "    .dataframe thead th {\n",
              "        text-align: right;\n",
              "    }\n",
              "</style>\n",
              "<table border=\"1\" class=\"dataframe\">\n",
              "  <thead>\n",
              "    <tr style=\"text-align: right;\">\n",
              "      <th></th>\n",
              "      <th>symboling</th>\n",
              "      <th>normalized-losses</th>\n",
              "      <th>make</th>\n",
              "      <th>fuel-type</th>\n",
              "      <th>aspiration</th>\n",
              "      <th>num-of-doors</th>\n",
              "      <th>body-style</th>\n",
              "      <th>drive-wheels</th>\n",
              "      <th>engine-location</th>\n",
              "      <th>wheel-base</th>\n",
              "      <th>...</th>\n",
              "      <th>engine-size</th>\n",
              "      <th>fuel-system</th>\n",
              "      <th>bore</th>\n",
              "      <th>stroke</th>\n",
              "      <th>compression-ratio</th>\n",
              "      <th>horsepower</th>\n",
              "      <th>peak-rpm</th>\n",
              "      <th>city-mpg</th>\n",
              "      <th>highway-mpg</th>\n",
              "      <th>price</th>\n",
              "    </tr>\n",
              "  </thead>\n",
              "  <tbody>\n",
              "    <tr>\n",
              "      <th>183</th>\n",
              "      <td>2</td>\n",
              "      <td>122</td>\n",
              "      <td>volkswagen</td>\n",
              "      <td>gas</td>\n",
              "      <td>std</td>\n",
              "      <td>two</td>\n",
              "      <td>sedan</td>\n",
              "      <td>fwd</td>\n",
              "      <td>front</td>\n",
              "      <td>97.3</td>\n",
              "      <td>...</td>\n",
              "      <td>109</td>\n",
              "      <td>mpfi</td>\n",
              "      <td>3.19</td>\n",
              "      <td>3.40</td>\n",
              "      <td>9.0</td>\n",
              "      <td>85</td>\n",
              "      <td>5250</td>\n",
              "      <td>27</td>\n",
              "      <td>34</td>\n",
              "      <td>7975</td>\n",
              "    </tr>\n",
              "    <tr>\n",
              "      <th>177</th>\n",
              "      <td>-1</td>\n",
              "      <td>65</td>\n",
              "      <td>toyota</td>\n",
              "      <td>gas</td>\n",
              "      <td>std</td>\n",
              "      <td>four</td>\n",
              "      <td>hatchback</td>\n",
              "      <td>fwd</td>\n",
              "      <td>front</td>\n",
              "      <td>102.4</td>\n",
              "      <td>...</td>\n",
              "      <td>122</td>\n",
              "      <td>mpfi</td>\n",
              "      <td>3.31</td>\n",
              "      <td>3.54</td>\n",
              "      <td>8.7</td>\n",
              "      <td>92</td>\n",
              "      <td>4200</td>\n",
              "      <td>27</td>\n",
              "      <td>32</td>\n",
              "      <td>11248</td>\n",
              "    </tr>\n",
              "    <tr>\n",
              "      <th>185</th>\n",
              "      <td>2</td>\n",
              "      <td>94</td>\n",
              "      <td>volkswagen</td>\n",
              "      <td>gas</td>\n",
              "      <td>std</td>\n",
              "      <td>four</td>\n",
              "      <td>sedan</td>\n",
              "      <td>fwd</td>\n",
              "      <td>front</td>\n",
              "      <td>97.3</td>\n",
              "      <td>...</td>\n",
              "      <td>109</td>\n",
              "      <td>mpfi</td>\n",
              "      <td>3.19</td>\n",
              "      <td>3.40</td>\n",
              "      <td>9.0</td>\n",
              "      <td>85</td>\n",
              "      <td>5250</td>\n",
              "      <td>27</td>\n",
              "      <td>34</td>\n",
              "      <td>8195</td>\n",
              "    </tr>\n",
              "    <tr>\n",
              "      <th>68</th>\n",
              "      <td>-1</td>\n",
              "      <td>93</td>\n",
              "      <td>mercedes-benz</td>\n",
              "      <td>diesel</td>\n",
              "      <td>turbo</td>\n",
              "      <td>four</td>\n",
              "      <td>wagon</td>\n",
              "      <td>rwd</td>\n",
              "      <td>front</td>\n",
              "      <td>110.0</td>\n",
              "      <td>...</td>\n",
              "      <td>183</td>\n",
              "      <td>idi</td>\n",
              "      <td>3.58</td>\n",
              "      <td>3.64</td>\n",
              "      <td>21.5</td>\n",
              "      <td>123</td>\n",
              "      <td>4350</td>\n",
              "      <td>22</td>\n",
              "      <td>25</td>\n",
              "      <td>28248</td>\n",
              "    </tr>\n",
              "    <tr>\n",
              "      <th>59</th>\n",
              "      <td>1</td>\n",
              "      <td>129</td>\n",
              "      <td>mazda</td>\n",
              "      <td>gas</td>\n",
              "      <td>std</td>\n",
              "      <td>two</td>\n",
              "      <td>hatchback</td>\n",
              "      <td>fwd</td>\n",
              "      <td>front</td>\n",
              "      <td>98.8</td>\n",
              "      <td>...</td>\n",
              "      <td>122</td>\n",
              "      <td>2bbl</td>\n",
              "      <td>3.39</td>\n",
              "      <td>3.39</td>\n",
              "      <td>8.6</td>\n",
              "      <td>84</td>\n",
              "      <td>4800</td>\n",
              "      <td>26</td>\n",
              "      <td>32</td>\n",
              "      <td>8845</td>\n",
              "    </tr>\n",
              "  </tbody>\n",
              "</table>\n",
              "<p>5 rows × 26 columns</p>\n",
              "</div>\n",
              "      <button class=\"colab-df-convert\" onclick=\"convertToInteractive('df-2c66a9fb-acab-4350-a9cb-d1e6a76918c9')\"\n",
              "              title=\"Convert this dataframe to an interactive table.\"\n",
              "              style=\"display:none;\">\n",
              "        \n",
              "  <svg xmlns=\"http://www.w3.org/2000/svg\" height=\"24px\"viewBox=\"0 0 24 24\"\n",
              "       width=\"24px\">\n",
              "    <path d=\"M0 0h24v24H0V0z\" fill=\"none\"/>\n",
              "    <path d=\"M18.56 5.44l.94 2.06.94-2.06 2.06-.94-2.06-.94-.94-2.06-.94 2.06-2.06.94zm-11 1L8.5 8.5l.94-2.06 2.06-.94-2.06-.94L8.5 2.5l-.94 2.06-2.06.94zm10 10l.94 2.06.94-2.06 2.06-.94-2.06-.94-.94-2.06-.94 2.06-2.06.94z\"/><path d=\"M17.41 7.96l-1.37-1.37c-.4-.4-.92-.59-1.43-.59-.52 0-1.04.2-1.43.59L10.3 9.45l-7.72 7.72c-.78.78-.78 2.05 0 2.83L4 21.41c.39.39.9.59 1.41.59.51 0 1.02-.2 1.41-.59l7.78-7.78 2.81-2.81c.8-.78.8-2.07 0-2.86zM5.41 20L4 18.59l7.72-7.72 1.47 1.35L5.41 20z\"/>\n",
              "  </svg>\n",
              "      </button>\n",
              "      \n",
              "  <style>\n",
              "    .colab-df-container {\n",
              "      display:flex;\n",
              "      flex-wrap:wrap;\n",
              "      gap: 12px;\n",
              "    }\n",
              "\n",
              "    .colab-df-convert {\n",
              "      background-color: #E8F0FE;\n",
              "      border: none;\n",
              "      border-radius: 50%;\n",
              "      cursor: pointer;\n",
              "      display: none;\n",
              "      fill: #1967D2;\n",
              "      height: 32px;\n",
              "      padding: 0 0 0 0;\n",
              "      width: 32px;\n",
              "    }\n",
              "\n",
              "    .colab-df-convert:hover {\n",
              "      background-color: #E2EBFA;\n",
              "      box-shadow: 0px 1px 2px rgba(60, 64, 67, 0.3), 0px 1px 3px 1px rgba(60, 64, 67, 0.15);\n",
              "      fill: #174EA6;\n",
              "    }\n",
              "\n",
              "    [theme=dark] .colab-df-convert {\n",
              "      background-color: #3B4455;\n",
              "      fill: #D2E3FC;\n",
              "    }\n",
              "\n",
              "    [theme=dark] .colab-df-convert:hover {\n",
              "      background-color: #434B5C;\n",
              "      box-shadow: 0px 1px 3px 1px rgba(0, 0, 0, 0.15);\n",
              "      filter: drop-shadow(0px 1px 2px rgba(0, 0, 0, 0.3));\n",
              "      fill: #FFFFFF;\n",
              "    }\n",
              "  </style>\n",
              "\n",
              "      <script>\n",
              "        const buttonEl =\n",
              "          document.querySelector('#df-2c66a9fb-acab-4350-a9cb-d1e6a76918c9 button.colab-df-convert');\n",
              "        buttonEl.style.display =\n",
              "          google.colab.kernel.accessAllowed ? 'block' : 'none';\n",
              "\n",
              "        async function convertToInteractive(key) {\n",
              "          const element = document.querySelector('#df-2c66a9fb-acab-4350-a9cb-d1e6a76918c9');\n",
              "          const dataTable =\n",
              "            await google.colab.kernel.invokeFunction('convertToInteractive',\n",
              "                                                     [key], {});\n",
              "          if (!dataTable) return;\n",
              "\n",
              "          const docLinkHtml = 'Like what you see? Visit the ' +\n",
              "            '<a target=\"_blank\" href=https://colab.research.google.com/notebooks/data_table.ipynb>data table notebook</a>'\n",
              "            + ' to learn more about interactive tables.';\n",
              "          element.innerHTML = '';\n",
              "          dataTable['output_type'] = 'display_data';\n",
              "          await google.colab.output.renderOutput(dataTable, element);\n",
              "          const docLink = document.createElement('div');\n",
              "          docLink.innerHTML = docLinkHtml;\n",
              "          element.appendChild(docLink);\n",
              "        }\n",
              "      </script>\n",
              "    </div>\n",
              "  </div>\n",
              "  "
            ]
          },
          "metadata": {},
          "execution_count": 26
        }
      ],
      "source": [
        "headers = [\"symboling\",\n",
        "           \"normalized-losses\",\n",
        "           \"make\",\n",
        "           \"fuel-type\",\n",
        "           \"aspiration\", \n",
        "           \"num-of-doors\",\n",
        "           \"body-style\",\n",
        "           \"drive-wheels\",\n",
        "           \"engine-location\",\n",
        "           \"wheel-base\",\n",
        "           \"length\",\n",
        "           \"width\",\n",
        "           \"height\",\n",
        "           \"curb-weight\",\n",
        "           \"engine-type\", \n",
        "           \"num-of-cylinders\", \n",
        "           \"engine-size\",\n",
        "           \"fuel-system\",\n",
        "           \"bore\",\n",
        "           \"stroke\",\n",
        "           \"compression-ratio\",\n",
        "           \"horsepower\",\n",
        "           \"peak-rpm\",\n",
        "           \"city-mpg\",\n",
        "           \"highway-mpg\",\n",
        "           \"price\"]\n",
        "\n",
        "df = pd.read_csv(\"https://www.alvinang.sg/s/auto.csv\", names = headers)\n",
        "\n",
        "df.sample(5)"
      ]
    },
    {
      "cell_type": "markdown",
      "source": [
        "\n",
        "\n",
        "---\n",
        "\n"
      ],
      "metadata": {
        "id": "tvgXeizwA1Sh"
      }
    },
    {
      "cell_type": "markdown",
      "source": [
        "#Step 2: Visualizing NaNs"
      ],
      "metadata": {
        "id": "uqFrvu-4Ay59"
      }
    },
    {
      "cell_type": "markdown",
      "source": [
        "##2a) Replace All '?' with NaNs"
      ],
      "metadata": {
        "id": "GnEDrds0pnJw"
      }
    },
    {
      "cell_type": "code",
      "source": [
        "import numpy as np\n",
        "\n",
        "# replace \"?\" to NaN\n",
        "df.replace(\"?\", np.nan, inplace = True)\n",
        "\n",
        "df.head(5)"
      ],
      "metadata": {
        "id": "q6JYf3ADM6x-",
        "colab": {
          "base_uri": "https://localhost:8080/",
          "height": 386
        },
        "outputId": "34f5383c-cfed-431c-ffc0-bb4e2b665525"
      },
      "execution_count": 27,
      "outputs": [
        {
          "output_type": "execute_result",
          "data": {
            "text/plain": [
              "   symboling normalized-losses         make fuel-type aspiration num-of-doors  \\\n",
              "0          3               NaN  alfa-romero       gas        std          two   \n",
              "1          3               NaN  alfa-romero       gas        std          two   \n",
              "2          1               NaN  alfa-romero       gas        std          two   \n",
              "3          2               164         audi       gas        std         four   \n",
              "4          2               164         audi       gas        std         four   \n",
              "\n",
              "    body-style drive-wheels engine-location  wheel-base  ...  engine-size  \\\n",
              "0  convertible          rwd           front        88.6  ...          130   \n",
              "1  convertible          rwd           front        88.6  ...          130   \n",
              "2    hatchback          rwd           front        94.5  ...          152   \n",
              "3        sedan          fwd           front        99.8  ...          109   \n",
              "4        sedan          4wd           front        99.4  ...          136   \n",
              "\n",
              "   fuel-system  bore  stroke compression-ratio horsepower  peak-rpm city-mpg  \\\n",
              "0         mpfi  3.47    2.68               9.0        111      5000       21   \n",
              "1         mpfi  3.47    2.68               9.0        111      5000       21   \n",
              "2         mpfi  2.68    3.47               9.0        154      5000       19   \n",
              "3         mpfi  3.19    3.40              10.0        102      5500       24   \n",
              "4         mpfi  3.19    3.40               8.0        115      5500       18   \n",
              "\n",
              "  highway-mpg  price  \n",
              "0          27  13495  \n",
              "1          27  16500  \n",
              "2          26  16500  \n",
              "3          30  13950  \n",
              "4          22  17450  \n",
              "\n",
              "[5 rows x 26 columns]"
            ],
            "text/html": [
              "\n",
              "  <div id=\"df-54aef112-35ab-404d-8ba9-4796432c5067\">\n",
              "    <div class=\"colab-df-container\">\n",
              "      <div>\n",
              "<style scoped>\n",
              "    .dataframe tbody tr th:only-of-type {\n",
              "        vertical-align: middle;\n",
              "    }\n",
              "\n",
              "    .dataframe tbody tr th {\n",
              "        vertical-align: top;\n",
              "    }\n",
              "\n",
              "    .dataframe thead th {\n",
              "        text-align: right;\n",
              "    }\n",
              "</style>\n",
              "<table border=\"1\" class=\"dataframe\">\n",
              "  <thead>\n",
              "    <tr style=\"text-align: right;\">\n",
              "      <th></th>\n",
              "      <th>symboling</th>\n",
              "      <th>normalized-losses</th>\n",
              "      <th>make</th>\n",
              "      <th>fuel-type</th>\n",
              "      <th>aspiration</th>\n",
              "      <th>num-of-doors</th>\n",
              "      <th>body-style</th>\n",
              "      <th>drive-wheels</th>\n",
              "      <th>engine-location</th>\n",
              "      <th>wheel-base</th>\n",
              "      <th>...</th>\n",
              "      <th>engine-size</th>\n",
              "      <th>fuel-system</th>\n",
              "      <th>bore</th>\n",
              "      <th>stroke</th>\n",
              "      <th>compression-ratio</th>\n",
              "      <th>horsepower</th>\n",
              "      <th>peak-rpm</th>\n",
              "      <th>city-mpg</th>\n",
              "      <th>highway-mpg</th>\n",
              "      <th>price</th>\n",
              "    </tr>\n",
              "  </thead>\n",
              "  <tbody>\n",
              "    <tr>\n",
              "      <th>0</th>\n",
              "      <td>3</td>\n",
              "      <td>NaN</td>\n",
              "      <td>alfa-romero</td>\n",
              "      <td>gas</td>\n",
              "      <td>std</td>\n",
              "      <td>two</td>\n",
              "      <td>convertible</td>\n",
              "      <td>rwd</td>\n",
              "      <td>front</td>\n",
              "      <td>88.6</td>\n",
              "      <td>...</td>\n",
              "      <td>130</td>\n",
              "      <td>mpfi</td>\n",
              "      <td>3.47</td>\n",
              "      <td>2.68</td>\n",
              "      <td>9.0</td>\n",
              "      <td>111</td>\n",
              "      <td>5000</td>\n",
              "      <td>21</td>\n",
              "      <td>27</td>\n",
              "      <td>13495</td>\n",
              "    </tr>\n",
              "    <tr>\n",
              "      <th>1</th>\n",
              "      <td>3</td>\n",
              "      <td>NaN</td>\n",
              "      <td>alfa-romero</td>\n",
              "      <td>gas</td>\n",
              "      <td>std</td>\n",
              "      <td>two</td>\n",
              "      <td>convertible</td>\n",
              "      <td>rwd</td>\n",
              "      <td>front</td>\n",
              "      <td>88.6</td>\n",
              "      <td>...</td>\n",
              "      <td>130</td>\n",
              "      <td>mpfi</td>\n",
              "      <td>3.47</td>\n",
              "      <td>2.68</td>\n",
              "      <td>9.0</td>\n",
              "      <td>111</td>\n",
              "      <td>5000</td>\n",
              "      <td>21</td>\n",
              "      <td>27</td>\n",
              "      <td>16500</td>\n",
              "    </tr>\n",
              "    <tr>\n",
              "      <th>2</th>\n",
              "      <td>1</td>\n",
              "      <td>NaN</td>\n",
              "      <td>alfa-romero</td>\n",
              "      <td>gas</td>\n",
              "      <td>std</td>\n",
              "      <td>two</td>\n",
              "      <td>hatchback</td>\n",
              "      <td>rwd</td>\n",
              "      <td>front</td>\n",
              "      <td>94.5</td>\n",
              "      <td>...</td>\n",
              "      <td>152</td>\n",
              "      <td>mpfi</td>\n",
              "      <td>2.68</td>\n",
              "      <td>3.47</td>\n",
              "      <td>9.0</td>\n",
              "      <td>154</td>\n",
              "      <td>5000</td>\n",
              "      <td>19</td>\n",
              "      <td>26</td>\n",
              "      <td>16500</td>\n",
              "    </tr>\n",
              "    <tr>\n",
              "      <th>3</th>\n",
              "      <td>2</td>\n",
              "      <td>164</td>\n",
              "      <td>audi</td>\n",
              "      <td>gas</td>\n",
              "      <td>std</td>\n",
              "      <td>four</td>\n",
              "      <td>sedan</td>\n",
              "      <td>fwd</td>\n",
              "      <td>front</td>\n",
              "      <td>99.8</td>\n",
              "      <td>...</td>\n",
              "      <td>109</td>\n",
              "      <td>mpfi</td>\n",
              "      <td>3.19</td>\n",
              "      <td>3.40</td>\n",
              "      <td>10.0</td>\n",
              "      <td>102</td>\n",
              "      <td>5500</td>\n",
              "      <td>24</td>\n",
              "      <td>30</td>\n",
              "      <td>13950</td>\n",
              "    </tr>\n",
              "    <tr>\n",
              "      <th>4</th>\n",
              "      <td>2</td>\n",
              "      <td>164</td>\n",
              "      <td>audi</td>\n",
              "      <td>gas</td>\n",
              "      <td>std</td>\n",
              "      <td>four</td>\n",
              "      <td>sedan</td>\n",
              "      <td>4wd</td>\n",
              "      <td>front</td>\n",
              "      <td>99.4</td>\n",
              "      <td>...</td>\n",
              "      <td>136</td>\n",
              "      <td>mpfi</td>\n",
              "      <td>3.19</td>\n",
              "      <td>3.40</td>\n",
              "      <td>8.0</td>\n",
              "      <td>115</td>\n",
              "      <td>5500</td>\n",
              "      <td>18</td>\n",
              "      <td>22</td>\n",
              "      <td>17450</td>\n",
              "    </tr>\n",
              "  </tbody>\n",
              "</table>\n",
              "<p>5 rows × 26 columns</p>\n",
              "</div>\n",
              "      <button class=\"colab-df-convert\" onclick=\"convertToInteractive('df-54aef112-35ab-404d-8ba9-4796432c5067')\"\n",
              "              title=\"Convert this dataframe to an interactive table.\"\n",
              "              style=\"display:none;\">\n",
              "        \n",
              "  <svg xmlns=\"http://www.w3.org/2000/svg\" height=\"24px\"viewBox=\"0 0 24 24\"\n",
              "       width=\"24px\">\n",
              "    <path d=\"M0 0h24v24H0V0z\" fill=\"none\"/>\n",
              "    <path d=\"M18.56 5.44l.94 2.06.94-2.06 2.06-.94-2.06-.94-.94-2.06-.94 2.06-2.06.94zm-11 1L8.5 8.5l.94-2.06 2.06-.94-2.06-.94L8.5 2.5l-.94 2.06-2.06.94zm10 10l.94 2.06.94-2.06 2.06-.94-2.06-.94-.94-2.06-.94 2.06-2.06.94z\"/><path d=\"M17.41 7.96l-1.37-1.37c-.4-.4-.92-.59-1.43-.59-.52 0-1.04.2-1.43.59L10.3 9.45l-7.72 7.72c-.78.78-.78 2.05 0 2.83L4 21.41c.39.39.9.59 1.41.59.51 0 1.02-.2 1.41-.59l7.78-7.78 2.81-2.81c.8-.78.8-2.07 0-2.86zM5.41 20L4 18.59l7.72-7.72 1.47 1.35L5.41 20z\"/>\n",
              "  </svg>\n",
              "      </button>\n",
              "      \n",
              "  <style>\n",
              "    .colab-df-container {\n",
              "      display:flex;\n",
              "      flex-wrap:wrap;\n",
              "      gap: 12px;\n",
              "    }\n",
              "\n",
              "    .colab-df-convert {\n",
              "      background-color: #E8F0FE;\n",
              "      border: none;\n",
              "      border-radius: 50%;\n",
              "      cursor: pointer;\n",
              "      display: none;\n",
              "      fill: #1967D2;\n",
              "      height: 32px;\n",
              "      padding: 0 0 0 0;\n",
              "      width: 32px;\n",
              "    }\n",
              "\n",
              "    .colab-df-convert:hover {\n",
              "      background-color: #E2EBFA;\n",
              "      box-shadow: 0px 1px 2px rgba(60, 64, 67, 0.3), 0px 1px 3px 1px rgba(60, 64, 67, 0.15);\n",
              "      fill: #174EA6;\n",
              "    }\n",
              "\n",
              "    [theme=dark] .colab-df-convert {\n",
              "      background-color: #3B4455;\n",
              "      fill: #D2E3FC;\n",
              "    }\n",
              "\n",
              "    [theme=dark] .colab-df-convert:hover {\n",
              "      background-color: #434B5C;\n",
              "      box-shadow: 0px 1px 3px 1px rgba(0, 0, 0, 0.15);\n",
              "      filter: drop-shadow(0px 1px 2px rgba(0, 0, 0, 0.3));\n",
              "      fill: #FFFFFF;\n",
              "    }\n",
              "  </style>\n",
              "\n",
              "      <script>\n",
              "        const buttonEl =\n",
              "          document.querySelector('#df-54aef112-35ab-404d-8ba9-4796432c5067 button.colab-df-convert');\n",
              "        buttonEl.style.display =\n",
              "          google.colab.kernel.accessAllowed ? 'block' : 'none';\n",
              "\n",
              "        async function convertToInteractive(key) {\n",
              "          const element = document.querySelector('#df-54aef112-35ab-404d-8ba9-4796432c5067');\n",
              "          const dataTable =\n",
              "            await google.colab.kernel.invokeFunction('convertToInteractive',\n",
              "                                                     [key], {});\n",
              "          if (!dataTable) return;\n",
              "\n",
              "          const docLinkHtml = 'Like what you see? Visit the ' +\n",
              "            '<a target=\"_blank\" href=https://colab.research.google.com/notebooks/data_table.ipynb>data table notebook</a>'\n",
              "            + ' to learn more about interactive tables.';\n",
              "          element.innerHTML = '';\n",
              "          dataTable['output_type'] = 'display_data';\n",
              "          await google.colab.output.renderOutput(dataTable, element);\n",
              "          const docLink = document.createElement('div');\n",
              "          docLink.innerHTML = docLinkHtml;\n",
              "          element.appendChild(docLink);\n",
              "        }\n",
              "      </script>\n",
              "    </div>\n",
              "  </div>\n",
              "  "
            ]
          },
          "metadata": {},
          "execution_count": 27
        }
      ]
    },
    {
      "cell_type": "markdown",
      "source": [
        "##2b) Using MissingNo to Visualize NaNs"
      ],
      "metadata": {
        "id": "lrq6c646dNSi"
      }
    },
    {
      "cell_type": "code",
      "source": [
        "msno.bar(df)"
      ],
      "metadata": {
        "colab": {
          "base_uri": "https://localhost:8080/",
          "height": 488
        },
        "id": "vcmb5TbbqUao",
        "outputId": "239221f1-c072-4e04-8bff-f4a6b08b9c5a"
      },
      "execution_count": 28,
      "outputs": [
        {
          "output_type": "execute_result",
          "data": {
            "text/plain": [
              "<matplotlib.axes._subplots.AxesSubplot at 0x7fade8ff5a90>"
            ]
          },
          "metadata": {},
          "execution_count": 28
        },
        {
          "output_type": "display_data",
          "data": {
            "text/plain": [
              "<Figure size 1800x720 with 3 Axes>"
            ],
            "image/png": "[encoded data removed]"
          },
          "metadata": {
            "needs_background": "light"
          }
        }
      ]
    },
    {
      "cell_type": "code",
      "source": [
        "msno.matrix(df)"
      ],
      "metadata": {
        "colab": {
          "base_uri": "https://localhost:8080/",
          "height": 475
        },
        "id": "KhgWlpqw_DNM",
        "outputId": "818c3644-4c8a-4fdb-b510-8d00fe257ae8"
      },
      "execution_count": 29,
      "outputs": [
        {
          "output_type": "execute_result",
          "data": {
            "text/plain": [
              "<matplotlib.axes._subplots.AxesSubplot at 0x7fade8dfc250>"
            ]
          },
          "metadata": {},
          "execution_count": 29
        },
        {
          "output_type": "display_data",
          "data": {
            "text/plain": [
              "<Figure size 1800x720 with 2 Axes>"
            ],
            "image/png": "[encoded data removed]"
          },
          "metadata": {
            "needs_background": "light"
          }
        }
      ]
    },
    {
      "cell_type": "markdown",
      "source": [
        "##2c) Count Number of NaNs in Each Column"
      ],
      "metadata": {
        "id": "gkV3WmJFc0oD"
      }
    },
    {
      "cell_type": "code",
      "source": [
        "missing_data = df.isnull()"
      ],
      "metadata": {
        "id": "kqTXquQFAnlD"
      },
      "execution_count": 30,
      "outputs": []
    },
    {
      "cell_type": "code",
      "source": [
        "for column in missing_data.columns.values.tolist():\n",
        "  print(column)\n",
        "  print(missing_data[column].value_counts())\n",
        "  print(\"\")"
      ],
      "metadata": {
        "colab": {
          "base_uri": "https://localhost:8080/"
        },
        "id": "ZBtYI3UfzKdz",
        "outputId": "6dc191b0-8fb3-4b28-f0c5-2294e850fa50"
      },
      "execution_count": 31,
      "outputs": [
        {
          "output_type": "stream",
          "name": "stdout",
          "text": [
            "symboling\n",
            "False    205\n",
            "Name: symboling, dtype: int64\n",
            "\n",
            "normalized-losses\n",
            "False    164\n",
            "True      41\n",
            "Name: normalized-losses, dtype: int64\n",
            "\n",
            "make\n",
            "False    205\n",
            "Name: make, dtype: int64\n",
            "\n",
            "fuel-type\n",
            "False    205\n",
            "Name: fuel-type, dtype: int64\n",
            "\n",
            "aspiration\n",
            "False    205\n",
            "Name: aspiration, dtype: int64\n",
            "\n",
            "num-of-doors\n",
            "False    203\n",
            "True       2\n",
            "Name: num-of-doors, dtype: int64\n",
            "\n",
            "body-style\n",
            "False    205\n",
            "Name: body-style, dtype: int64\n",
            "\n",
            "drive-wheels\n",
            "False    205\n",
            "Name: drive-wheels, dtype: int64\n",
            "\n",
            "engine-location\n",
            "False    205\n",
            "Name: engine-location, dtype: int64\n",
            "\n",
            "wheel-base\n",
            "False    205\n",
            "Name: wheel-base, dtype: int64\n",
            "\n",
            "length\n",
            "False    205\n",
            "Name: length, dtype: int64\n",
            "\n",
            "width\n",
            "False    205\n",
            "Name: width, dtype: int64\n",
            "\n",
            "height\n",
            "False    205\n",
            "Name: height, dtype: int64\n",
            "\n",
            "curb-weight\n",
            "False    205\n",
            "Name: curb-weight, dtype: int64\n",
            "\n",
            "engine-type\n",
            "False    205\n",
            "Name: engine-type, dtype: int64\n",
            "\n",
            "num-of-cylinders\n",
            "False    205\n",
            "Name: num-of-cylinders, dtype: int64\n",
            "\n",
            "engine-size\n",
            "False    205\n",
            "Name: engine-size, dtype: int64\n",
            "\n",
            "fuel-system\n",
            "False    205\n",
            "Name: fuel-system, dtype: int64\n",
            "\n",
            "bore\n",
            "False    201\n",
            "True       4\n",
            "Name: bore, dtype: int64\n",
            "\n",
            "stroke\n",
            "False    201\n",
            "True       4\n",
            "Name: stroke, dtype: int64\n",
            "\n",
            "compression-ratio\n",
            "False    205\n",
            "Name: compression-ratio, dtype: int64\n",
            "\n",
            "horsepower\n",
            "False    203\n",
            "True       2\n",
            "Name: horsepower, dtype: int64\n",
            "\n",
            "peak-rpm\n",
            "False    203\n",
            "True       2\n",
            "Name: peak-rpm, dtype: int64\n",
            "\n",
            "city-mpg\n",
            "False    205\n",
            "Name: city-mpg, dtype: int64\n",
            "\n",
            "highway-mpg\n",
            "False    205\n",
            "Name: highway-mpg, dtype: int64\n",
            "\n",
            "price\n",
            "False    201\n",
            "True       4\n",
            "Name: price, dtype: int64\n",
            "\n"
          ]
        }
      ]
    },
    {
      "cell_type": "markdown",
      "source": [
        "![WhatsApp Image 2022-06-08 at 7.07.36 PM.jpeg](data:image/jpeg;base64,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)"
      ],
      "metadata": {
        "id": "SbzrE8vn_9q4"
      }
    },
    {
      "cell_type": "markdown",
      "source": [
        "\n",
        "\n",
        "---\n",
        "\n"
      ],
      "metadata": {
        "id": "PWPIOviNBKTE"
      }
    },
    {
      "cell_type": "markdown",
      "source": [
        "#Step 3: Dealing with Missing Data"
      ],
      "metadata": {
        "id": "IjnuGRN9AYtf"
      }
    },
    {
      "cell_type": "markdown",
      "source": [
        "##3a) NaNs in the 'Price' Column - Drop All NaNs  "
      ],
      "metadata": {
        "id": "9bDSkRjZBki4"
      }
    },
    {
      "cell_type": "code",
      "source": [
        "df.dropna(subset=[\"price\"], axis=0, inplace=True)\n",
        "\n",
        "# “Price” column has 4 missing data\n",
        "#\tWe simply delete the whole row\n",
        "#\tReason: price is what we want to predict. \n",
        "#\tAny data entry without price data cannot be used for prediction; \n",
        "# therefore any row now without price data is not useful to us\n",
        "#\tDrop all rows with NaN values"
      ],
      "metadata": {
        "id": "nhrJ_DZIAOoy"
      },
      "execution_count": 32,
      "outputs": []
    },
    {
      "cell_type": "code",
      "source": [
        "df.reset_index(drop=True, inplace=True)\n",
        "\n",
        "#\tReset the index because we dropped the rows"
      ],
      "metadata": {
        "id": "ScgC8vM6Bw5U"
      },
      "execution_count": 33,
      "outputs": []
    },
    {
      "cell_type": "markdown",
      "source": [
        "##3b) NaNs in 'Normalized Losses' Column - Replace with Mean "
      ],
      "metadata": {
        "id": "cxTPqsejCTbp"
      }
    },
    {
      "cell_type": "code",
      "source": [
        "avg = df[\"normalized-losses\"].astype(\"float\").mean(axis=0)\n",
        "\n",
        "print(\"Average of Normalized-Losses Column:\", avg)"
      ],
      "metadata": {
        "colab": {
          "base_uri": "https://localhost:8080/"
        },
        "id": "ZoFZycY1_QLf",
        "outputId": "00cdaa09-b2bf-413b-9bb3-24f8a777aecd"
      },
      "execution_count": 34,
      "outputs": [
        {
          "output_type": "stream",
          "name": "stdout",
          "text": [
            "Average of Normalized-Losses Column: 122.0\n"
          ]
        }
      ]
    },
    {
      "cell_type": "code",
      "source": [
        "df[\"normalized-losses\"].replace(np.nan, avg, inplace=True)"
      ],
      "metadata": {
        "id": "2W-pvo53_Zxm"
      },
      "execution_count": 35,
      "outputs": []
    },
    {
      "cell_type": "markdown",
      "source": [
        "##3c) NaNs in 'Number of Doors' Column - Replace with Most Occuring Frequency"
      ],
      "metadata": {
        "id": "84EPa8Et_sWy"
      }
    },
    {
      "cell_type": "code",
      "source": [
        "df['num-of-doors'].value_counts()"
      ],
      "metadata": {
        "colab": {
          "base_uri": "https://localhost:8080/"
        },
        "id": "wndNhwTW_9m8",
        "outputId": "c52482a8-ffca-42e5-e6a9-f242d7ef1c1b"
      },
      "execution_count": 36,
      "outputs": [
        {
          "output_type": "execute_result",
          "data": {
            "text/plain": [
              "four    113\n",
              "two      86\n",
              "Name: num-of-doors, dtype: int64"
            ]
          },
          "metadata": {},
          "execution_count": 36
        }
      ]
    },
    {
      "cell_type": "code",
      "source": [
        "df['num-of-doors'].value_counts().idxmax()"
      ],
      "metadata": {
        "colab": {
          "base_uri": "https://localhost:8080/",
          "height": 37
        },
        "id": "hGnkAStIAJVU",
        "outputId": "9fe7ecc7-c445-4c87-d2d3-7383991434b1"
      },
      "execution_count": 37,
      "outputs": [
        {
          "output_type": "execute_result",
          "data": {
            "text/plain": [
              "'four'"
            ],
            "application/vnd.google.colaboratory.intrinsic+json": {
              "type": "string"
            }
          },
          "metadata": {},
          "execution_count": 37
        }
      ]
    },
    {
      "cell_type": "code",
      "source": [
        "df[\"num-of-doors\"].replace(np.nan, \"four\", inplace=True)"
      ],
      "metadata": {
        "id": "VX1FAM03APOP"
      },
      "execution_count": 38,
      "outputs": []
    },
    {
      "cell_type": "markdown",
      "source": [
        "##3d) Glancing at All Columns NaNs"
      ],
      "metadata": {
        "id": "eEW9pdr8APvx"
      }
    },
    {
      "cell_type": "code",
      "source": [
        "msno.matrix(df)"
      ],
      "metadata": {
        "colab": {
          "base_uri": "https://localhost:8080/",
          "height": 475
        },
        "id": "7ykPxdBSCOoM",
        "outputId": "b2091efa-10d1-4975-a752-f06d457d0f6b"
      },
      "execution_count": 39,
      "outputs": [
        {
          "output_type": "execute_result",
          "data": {
            "text/plain": [
              "<matplotlib.axes._subplots.AxesSubplot at 0x7fade8d1bd10>"
            ]
          },
          "metadata": {},
          "execution_count": 39
        },
        {
          "output_type": "display_data",
          "data": {
            "text/plain": [
              "<Figure size 1800x720 with 2 Axes>"
            ],
            "image/png": "[encoded data removed]"
          },
          "metadata": {
            "needs_background": "light"
          }
        }
      ]
    },
    {
      "cell_type": "markdown",
      "source": [
        "\n",
        "\n",
        "---\n",
        "\n"
      ],
      "metadata": {
        "id": "bbYtqKIABAvV"
      }
    },
    {
      "cell_type": "markdown",
      "source": [
        "#Step 4: Changing the Columns Data Type"
      ],
      "metadata": {
        "id": "d62QAyA3BBob"
      }
    },
    {
      "cell_type": "code",
      "source": [
        "df.dtypes\n",
        "\n",
        "#Normalized Losses is object = it should be integer\n",
        "#Bore and Stroke are objects = they should be float\n",
        "#Peak-rpm is object = it should be float\n",
        "#Price is object = it should be float"
      ],
      "metadata": {
        "colab": {
          "base_uri": "https://localhost:8080/"
        },
        "id": "nDfecd3aMMqH",
        "outputId": "71df4f28-fc3d-4702-f55d-f0ce21ecac73"
      },
      "execution_count": 40,
      "outputs": [
        {
          "output_type": "execute_result",
          "data": {
            "text/plain": [
              "symboling              int64\n",
              "normalized-losses     object\n",
              "make                  object\n",
              "fuel-type             object\n",
              "aspiration            object\n",
              "num-of-doors          object\n",
              "body-style            object\n",
              "drive-wheels          object\n",
              "engine-location       object\n",
              "wheel-base           float64\n",
              "length               float64\n",
              "width                float64\n",
              "height               float64\n",
              "curb-weight            int64\n",
              "engine-type           object\n",
              "num-of-cylinders      object\n",
              "engine-size            int64\n",
              "fuel-system           object\n",
              "bore                  object\n",
              "stroke                object\n",
              "compression-ratio    float64\n",
              "horsepower            object\n",
              "peak-rpm              object\n",
              "city-mpg               int64\n",
              "highway-mpg            int64\n",
              "price                 object\n",
              "dtype: object"
            ]
          },
          "metadata": {},
          "execution_count": 40
        }
      ]
    },
    {
      "cell_type": "code",
      "source": [
        "df[[\"normalized-losses\"]] = df[[\"normalized-losses\"]].astype(\"int\")\n",
        "\n",
        "df[[\"bore\", \"stroke\"]] = df[[\"bore\", \"stroke\"]].astype(\"float\")\n",
        "\n",
        "df[[\"peak-rpm\"]] = df[[\"peak-rpm\"]].astype(\"float\")\n",
        "\n",
        "df[[\"price\"]] = df[[\"price\"]].astype(\"float\")"
      ],
      "metadata": {
        "id": "c-iWR5g_M1Hm"
      },
      "execution_count": 41,
      "outputs": []
    },
    {
      "cell_type": "markdown",
      "source": [
        "\n",
        "\n",
        "---\n",
        "\n"
      ],
      "metadata": {
        "id": "IygBz_ZMcKsP"
      }
    },
    {
      "cell_type": "markdown",
      "source": [
        "#Step 5: Transform Miles Per Gallon (MPG) to L/100km"
      ],
      "metadata": {
        "id": "kOVrY6h3NLE9"
      }
    },
    {
      "cell_type": "code",
      "source": [
        "df[\"highway-mpg\"] = 235/df[\"highway-mpg\"]"
      ],
      "metadata": {
        "id": "A9J_PjoPbV_W"
      },
      "execution_count": 42,
      "outputs": []
    },
    {
      "cell_type": "code",
      "source": [
        "df.rename(columns={'highway-mpg':'highway-L/100km'}, inplace=True)"
      ],
      "metadata": {
        "id": "5L1uz0LbbZpK"
      },
      "execution_count": 43,
      "outputs": []
    },
    {
      "cell_type": "code",
      "source": [
        "df['highway-L/100km'].head()\n",
        "\n",
        "#we see that 'highway-mpg' has been renamed to 'highway-L/100km'"
      ],
      "metadata": {
        "colab": {
          "base_uri": "https://localhost:8080/"
        },
        "id": "B8zGplxsbd_0",
        "outputId": "3ec71712-b14e-4526-dc42-b203950b5780"
      },
      "execution_count": 45,
      "outputs": [
        {
          "output_type": "execute_result",
          "data": {
            "text/plain": [
              "0     8.703704\n",
              "1     8.703704\n",
              "2     9.038462\n",
              "3     7.833333\n",
              "4    10.681818\n",
              "Name: highway-L/100km, dtype: float64"
            ]
          },
          "metadata": {},
          "execution_count": 45
        }
      ]
    },
    {
      "cell_type": "markdown",
      "source": [
        "\n",
        "\n",
        "---\n",
        "\n"
      ],
      "metadata": {
        "id": "GDRmJlotcXvA"
      }
    },
    {
      "cell_type": "markdown",
      "source": [
        "#Step 6: Normalizing Length + Width + Height"
      ],
      "metadata": {
        "id": "IGe6cLKqc1sJ"
      }
    },
    {
      "cell_type": "code",
      "source": [
        "df['length'] = df['length']/df['length'].max()\n",
        "\n",
        "df['width'] = df['width']/df['width'].max()\n",
        "\n",
        "df['height'] = df['height']/df['height'].max()"
      ],
      "metadata": {
        "id": "j-FQb8amcbwc"
      },
      "execution_count": 46,
      "outputs": []
    },
    {
      "cell_type": "code",
      "source": [
        "df[[\"length\",\"width\",\"height\"]].head()"
      ],
      "metadata": {
        "colab": {
          "base_uri": "https://localhost:8080/",
          "height": 206
        },
        "id": "4cuAE70Oc0Vn",
        "outputId": "d022e233-1e72-443f-a235-7da4361956e6"
      },
      "execution_count": 47,
      "outputs": [
        {
          "output_type": "execute_result",
          "data": {
            "text/plain": [
              "     length     width    height\n",
              "0  0.811148  0.890278  0.816054\n",
              "1  0.811148  0.890278  0.816054\n",
              "2  0.822681  0.909722  0.876254\n",
              "3  0.848630  0.919444  0.908027\n",
              "4  0.848630  0.922222  0.908027"
            ],
            "text/html": [
              "\n",
              "  <div id=\"df-6e445653-d996-403b-978c-32a1c3c06ebe\">\n",
              "    <div class=\"colab-df-container\">\n",
              "      <div>\n",
              "<style scoped>\n",
              "    .dataframe tbody tr th:only-of-type {\n",
              "        vertical-align: middle;\n",
              "    }\n",
              "\n",
              "    .dataframe tbody tr th {\n",
              "        vertical-align: top;\n",
              "    }\n",
              "\n",
              "    .dataframe thead th {\n",
              "        text-align: right;\n",
              "    }\n",
              "</style>\n",
              "<table border=\"1\" class=\"dataframe\">\n",
              "  <thead>\n",
              "    <tr style=\"text-align: right;\">\n",
              "      <th></th>\n",
              "      <th>length</th>\n",
              "      <th>width</th>\n",
              "      <th>height</th>\n",
              "    </tr>\n",
              "  </thead>\n",
              "  <tbody>\n",
              "    <tr>\n",
              "      <th>0</th>\n",
              "      <td>0.811148</td>\n",
              "      <td>0.890278</td>\n",
              "      <td>0.816054</td>\n",
              "    </tr>\n",
              "    <tr>\n",
              "      <th>1</th>\n",
              "      <td>0.811148</td>\n",
              "      <td>0.890278</td>\n",
              "      <td>0.816054</td>\n",
              "    </tr>\n",
              "    <tr>\n",
              "      <th>2</th>\n",
              "      <td>0.822681</td>\n",
              "      <td>0.909722</td>\n",
              "      <td>0.876254</td>\n",
              "    </tr>\n",
              "    <tr>\n",
              "      <th>3</th>\n",
              "      <td>0.848630</td>\n",
              "      <td>0.919444</td>\n",
              "      <td>0.908027</td>\n",
              "    </tr>\n",
              "    <tr>\n",
              "      <th>4</th>\n",
              "      <td>0.848630</td>\n",
              "      <td>0.922222</td>\n",
              "      <td>0.908027</td>\n",
              "    </tr>\n",
              "  </tbody>\n",
              "</table>\n",
              "</div>\n",
              "      <button class=\"colab-df-convert\" onclick=\"convertToInteractive('df-6e445653-d996-403b-978c-32a1c3c06ebe')\"\n",
              "              title=\"Convert this dataframe to an interactive table.\"\n",
              "              style=\"display:none;\">\n",
              "        \n",
              "  <svg xmlns=\"http://www.w3.org/2000/svg\" height=\"24px\"viewBox=\"0 0 24 24\"\n",
              "       width=\"24px\">\n",
              "    <path d=\"M0 0h24v24H0V0z\" fill=\"none\"/>\n",
              "    <path d=\"M18.56 5.44l.94 2.06.94-2.06 2.06-.94-2.06-.94-.94-2.06-.94 2.06-2.06.94zm-11 1L8.5 8.5l.94-2.06 2.06-.94-2.06-.94L8.5 2.5l-.94 2.06-2.06.94zm10 10l.94 2.06.94-2.06 2.06-.94-2.06-.94-.94-2.06-.94 2.06-2.06.94z\"/><path d=\"M17.41 7.96l-1.37-1.37c-.4-.4-.92-.59-1.43-.59-.52 0-1.04.2-1.43.59L10.3 9.45l-7.72 7.72c-.78.78-.78 2.05 0 2.83L4 21.41c.39.39.9.59 1.41.59.51 0 1.02-.2 1.41-.59l7.78-7.78 2.81-2.81c.8-.78.8-2.07 0-2.86zM5.41 20L4 18.59l7.72-7.72 1.47 1.35L5.41 20z\"/>\n",
              "  </svg>\n",
              "      </button>\n",
              "      \n",
              "  <style>\n",
              "    .colab-df-container {\n",
              "      display:flex;\n",
              "      flex-wrap:wrap;\n",
              "      gap: 12px;\n",
              "    }\n",
              "\n",
              "    .colab-df-convert {\n",
              "      background-color: #E8F0FE;\n",
              "      border: none;\n",
              "      border-radius: 50%;\n",
              "      cursor: pointer;\n",
              "      display: none;\n",
              "      fill: #1967D2;\n",
              "      height: 32px;\n",
              "      padding: 0 0 0 0;\n",
              "      width: 32px;\n",
              "    }\n",
              "\n",
              "    .colab-df-convert:hover {\n",
              "      background-color: #E2EBFA;\n",
              "      box-shadow: 0px 1px 2px rgba(60, 64, 67, 0.3), 0px 1px 3px 1px rgba(60, 64, 67, 0.15);\n",
              "      fill: #174EA6;\n",
              "    }\n",
              "\n",
              "    [theme=dark] .colab-df-convert {\n",
              "      background-color: #3B4455;\n",
              "      fill: #D2E3FC;\n",
              "    }\n",
              "\n",
              "    [theme=dark] .colab-df-convert:hover {\n",
              "      background-color: #434B5C;\n",
              "      box-shadow: 0px 1px 3px 1px rgba(0, 0, 0, 0.15);\n",
              "      filter: drop-shadow(0px 1px 2px rgba(0, 0, 0, 0.3));\n",
              "      fill: #FFFFFF;\n",
              "    }\n",
              "  </style>\n",
              "\n",
              "      <script>\n",
              "        const buttonEl =\n",
              "          document.querySelector('#df-6e445653-d996-403b-978c-32a1c3c06ebe button.colab-df-convert');\n",
              "        buttonEl.style.display =\n",
              "          google.colab.kernel.accessAllowed ? 'block' : 'none';\n",
              "\n",
              "        async function convertToInteractive(key) {\n",
              "          const element = document.querySelector('#df-6e445653-d996-403b-978c-32a1c3c06ebe');\n",
              "          const dataTable =\n",
              "            await google.colab.kernel.invokeFunction('convertToInteractive',\n",
              "                                                     [key], {});\n",
              "          if (!dataTable) return;\n",
              "\n",
              "          const docLinkHtml = 'Like what you see? Visit the ' +\n",
              "            '<a target=\"_blank\" href=https://colab.research.google.com/notebooks/data_table.ipynb>data table notebook</a>'\n",
              "            + ' to learn more about interactive tables.';\n",
              "          element.innerHTML = '';\n",
              "          dataTable['output_type'] = 'display_data';\n",
              "          await google.colab.output.renderOutput(dataTable, element);\n",
              "          const docLink = document.createElement('div');\n",
              "          docLink.innerHTML = docLinkHtml;\n",
              "          element.appendChild(docLink);\n",
              "        }\n",
              "      </script>\n",
              "    </div>\n",
              "  </div>\n",
              "  "
            ]
          },
          "metadata": {},
          "execution_count": 47
        }
      ]
    },
    {
      "cell_type": "markdown",
      "source": [
        "\n",
        "\n",
        "---\n",
        "\n"
      ],
      "metadata": {
        "id": "niKRsXUBdAu6"
      }
    },
    {
      "cell_type": "markdown",
      "source": [
        "#THE END"
      ],
      "metadata": {
        "id": "2QjJOlu8dCBn"
      }
    }
  ]
}