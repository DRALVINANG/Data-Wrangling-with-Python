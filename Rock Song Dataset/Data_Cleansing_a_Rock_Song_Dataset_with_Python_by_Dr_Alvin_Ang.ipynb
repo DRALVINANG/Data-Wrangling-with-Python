{
  "nbformat": 4,
  "nbformat_minor": 0,
  "metadata": {
    "colab": {
      "name": "Data Cleansing a Rock Song Dataset with Python by Dr. Alvin Ang.ipynb",
      "provenance": [],
      "collapsed_sections": [
        "9tagt5P5uS4H",
        "wXzOnrGmvNIi",
        "A0PIsY99wwX5"
      ],
      "toc_visible": true
    },
    "kernelspec": {
      "name": "python3",
      "display_name": "Python 3"
    },
    "language_info": {
      "name": "python"
    }
  },
  "cells": [
    {
      "cell_type": "markdown",
      "source": [
        "https://github.com/fivethirtyeight/data/blob/master/classic-rock/classic-rock-song-list.csv"
      ],
      "metadata": {
        "id": "3K5cJMjVs4pp"
      }
    },
    {
      "cell_type": "markdown",
      "source": [
        "#Step 1: Reading in the Data\n",
        " "
      ],
      "metadata": {
        "id": "mOoYSX8sfywF"
      }
    },
    {
      "cell_type": "markdown",
      "source": [
        "##1a) Import All Libraries"
      ],
      "metadata": {
        "id": "l7Tad9smnnWI"
      }
    },
    {
      "cell_type": "code",
      "execution_count": 7,
      "metadata": {
        "id": "dMW0AQujTrpg"
      },
      "outputs": [],
      "source": [
        "import pandas as pd\n",
        "import numpy as np\n",
        "import seaborn as sns"
      ]
    },
    {
      "cell_type": "markdown",
      "source": [
        "##1b) Load the CSV"
      ],
      "metadata": {
        "id": "PEDHm_fIndYA"
      }
    },
    {
      "cell_type": "markdown",
      "source": [
        "###1b(i) Option 1: Rename the Column"
      ],
      "metadata": {
        "id": "-TyiO2VkpOOT"
      }
    },
    {
      "cell_type": "code",
      "source": [
        "column_names = ['song', \n",
        "                'artist', \n",
        "                'release', \n",
        "                'song_artist', \n",
        "                'first', \n",
        "                'year', \n",
        "                'playcount', \n",
        "                'fg',]\n",
        "\n",
        "df = pd.read_csv('https://www.alvinang.sg/s/rock.csv', \n",
        "                 names=column_names, \n",
        "                 skiprows=1)\n",
        "\n",
        "df.head()\n",
        "\n",
        "#load the dataset and rename the columns"
      ],
      "metadata": {
        "colab": {
          "base_uri": "https://localhost:8080/",
          "height": 206
        },
        "id": "N8q4FwvAgesJ",
        "outputId": "6832a2a3-52dc-4788-dd0c-2b2dceaac496"
      },
      "execution_count": 8,
      "outputs": [
        {
          "output_type": "execute_result",
          "data": {
            "text/plain": [
              "                     song       artist release  \\\n",
              "0        Caught Up in You  .38 Special    1982   \n",
              "1            Fantasy Girl  .38 Special     NaN   \n",
              "2         Hold On Loosely  .38 Special    1981   \n",
              "3  Rockin' Into the Night  .38 Special    1980   \n",
              "4       Art For Arts Sake         10cc    1975   \n",
              "\n",
              "                             song_artist  first  year  playcount  fg  \n",
              "0        Caught Up in You by .38 Special      1     1         82  82  \n",
              "1            Fantasy Girl by .38 Special      1     0          3   0  \n",
              "2         Hold On Loosely by .38 Special      1     1         85  85  \n",
              "3  Rockin' Into the Night by .38 Special      1     1         18  18  \n",
              "4              Art For Arts Sake by 10cc      1     1          1   1  "
            ],
            "text/html": [
              "\n",
              "  <div id=\"df-809928f4-f758-405b-bd67-48a6a349cde8\">\n",
              "    <div class=\"colab-df-container\">\n",
              "      <div>\n",
              "<style scoped>\n",
              "    .dataframe tbody tr th:only-of-type {\n",
              "        vertical-align: middle;\n",
              "    }\n",
              "\n",
              "    .dataframe tbody tr th {\n",
              "        vertical-align: top;\n",
              "    }\n",
              "\n",
              "    .dataframe thead th {\n",
              "        text-align: right;\n",
              "    }\n",
              "</style>\n",
              "<table border=\"1\" class=\"dataframe\">\n",
              "  <thead>\n",
              "    <tr style=\"text-align: right;\">\n",
              "      <th></th>\n",
              "      <th>song</th>\n",
              "      <th>artist</th>\n",
              "      <th>release</th>\n",
              "      <th>song_artist</th>\n",
              "      <th>first</th>\n",
              "      <th>year</th>\n",
              "      <th>playcount</th>\n",
              "      <th>fg</th>\n",
              "    </tr>\n",
              "  </thead>\n",
              "  <tbody>\n",
              "    <tr>\n",
              "      <th>0</th>\n",
              "      <td>Caught Up in You</td>\n",
              "      <td>.38 Special</td>\n",
              "      <td>1982</td>\n",
              "      <td>Caught Up in You by .38 Special</td>\n",
              "      <td>1</td>\n",
              "      <td>1</td>\n",
              "      <td>82</td>\n",
              "      <td>82</td>\n",
              "    </tr>\n",
              "    <tr>\n",
              "      <th>1</th>\n",
              "      <td>Fantasy Girl</td>\n",
              "      <td>.38 Special</td>\n",
              "      <td>NaN</td>\n",
              "      <td>Fantasy Girl by .38 Special</td>\n",
              "      <td>1</td>\n",
              "      <td>0</td>\n",
              "      <td>3</td>\n",
              "      <td>0</td>\n",
              "    </tr>\n",
              "    <tr>\n",
              "      <th>2</th>\n",
              "      <td>Hold On Loosely</td>\n",
              "      <td>.38 Special</td>\n",
              "      <td>1981</td>\n",
              "      <td>Hold On Loosely by .38 Special</td>\n",
              "      <td>1</td>\n",
              "      <td>1</td>\n",
              "      <td>85</td>\n",
              "      <td>85</td>\n",
              "    </tr>\n",
              "    <tr>\n",
              "      <th>3</th>\n",
              "      <td>Rockin' Into the Night</td>\n",
              "      <td>.38 Special</td>\n",
              "      <td>1980</td>\n",
              "      <td>Rockin' Into the Night by .38 Special</td>\n",
              "      <td>1</td>\n",
              "      <td>1</td>\n",
              "      <td>18</td>\n",
              "      <td>18</td>\n",
              "    </tr>\n",
              "    <tr>\n",
              "      <th>4</th>\n",
              "      <td>Art For Arts Sake</td>\n",
              "      <td>10cc</td>\n",
              "      <td>1975</td>\n",
              "      <td>Art For Arts Sake by 10cc</td>\n",
              "      <td>1</td>\n",
              "      <td>1</td>\n",
              "      <td>1</td>\n",
              "      <td>1</td>\n",
              "    </tr>\n",
              "  </tbody>\n",
              "</table>\n",
              "</div>\n",
              "      <button class=\"colab-df-convert\" onclick=\"convertToInteractive('df-809928f4-f758-405b-bd67-48a6a349cde8')\"\n",
              "              title=\"Convert this dataframe to an interactive table.\"\n",
              "              style=\"display:none;\">\n",
              "        \n",
              "  <svg xmlns=\"http://www.w3.org/2000/svg\" height=\"24px\"viewBox=\"0 0 24 24\"\n",
              "       width=\"24px\">\n",
              "    <path d=\"M0 0h24v24H0V0z\" fill=\"none\"/>\n",
              "    <path d=\"M18.56 5.44l.94 2.06.94-2.06 2.06-.94-2.06-.94-.94-2.06-.94 2.06-2.06.94zm-11 1L8.5 8.5l.94-2.06 2.06-.94-2.06-.94L8.5 2.5l-.94 2.06-2.06.94zm10 10l.94 2.06.94-2.06 2.06-.94-2.06-.94-.94-2.06-.94 2.06-2.06.94z\"/><path d=\"M17.41 7.96l-1.37-1.37c-.4-.4-.92-.59-1.43-.59-.52 0-1.04.2-1.43.59L10.3 9.45l-7.72 7.72c-.78.78-.78 2.05 0 2.83L4 21.41c.39.39.9.59 1.41.59.51 0 1.02-.2 1.41-.59l7.78-7.78 2.81-2.81c.8-.78.8-2.07 0-2.86zM5.41 20L4 18.59l7.72-7.72 1.47 1.35L5.41 20z\"/>\n",
              "  </svg>\n",
              "      </button>\n",
              "      \n",
              "  <style>\n",
              "    .colab-df-container {\n",
              "      display:flex;\n",
              "      flex-wrap:wrap;\n",
              "      gap: 12px;\n",
              "    }\n",
              "\n",
              "    .colab-df-convert {\n",
              "      background-color: #E8F0FE;\n",
              "      border: none;\n",
              "      border-radius: 50%;\n",
              "      cursor: pointer;\n",
              "      display: none;\n",
              "      fill: #1967D2;\n",
              "      height: 32px;\n",
              "      padding: 0 0 0 0;\n",
              "      width: 32px;\n",
              "    }\n",
              "\n",
              "    .colab-df-convert:hover {\n",
              "      background-color: #E2EBFA;\n",
              "      box-shadow: 0px 1px 2px rgba(60, 64, 67, 0.3), 0px 1px 3px 1px rgba(60, 64, 67, 0.15);\n",
              "      fill: #174EA6;\n",
              "    }\n",
              "\n",
              "    [theme=dark] .colab-df-convert {\n",
              "      background-color: #3B4455;\n",
              "      fill: #D2E3FC;\n",
              "    }\n",
              "\n",
              "    [theme=dark] .colab-df-convert:hover {\n",
              "      background-color: #434B5C;\n",
              "      box-shadow: 0px 1px 3px 1px rgba(0, 0, 0, 0.15);\n",
              "      filter: drop-shadow(0px 1px 2px rgba(0, 0, 0, 0.3));\n",
              "      fill: #FFFFFF;\n",
              "    }\n",
              "  </style>\n",
              "\n",
              "      <script>\n",
              "        const buttonEl =\n",
              "          document.querySelector('#df-809928f4-f758-405b-bd67-48a6a349cde8 button.colab-df-convert');\n",
              "        buttonEl.style.display =\n",
              "          google.colab.kernel.accessAllowed ? 'block' : 'none';\n",
              "\n",
              "        async function convertToInteractive(key) {\n",
              "          const element = document.querySelector('#df-809928f4-f758-405b-bd67-48a6a349cde8');\n",
              "          const dataTable =\n",
              "            await google.colab.kernel.invokeFunction('convertToInteractive',\n",
              "                                                     [key], {});\n",
              "          if (!dataTable) return;\n",
              "\n",
              "          const docLinkHtml = 'Like what you see? Visit the ' +\n",
              "            '<a target=\"_blank\" href=https://colab.research.google.com/notebooks/data_table.ipynb>data table notebook</a>'\n",
              "            + ' to learn more about interactive tables.';\n",
              "          element.innerHTML = '';\n",
              "          dataTable['output_type'] = 'display_data';\n",
              "          await google.colab.output.renderOutput(dataTable, element);\n",
              "          const docLink = document.createElement('div');\n",
              "          docLink.innerHTML = docLinkHtml;\n",
              "          element.appendChild(docLink);\n",
              "        }\n",
              "      </script>\n",
              "    </div>\n",
              "  </div>\n",
              "  "
            ]
          },
          "metadata": {},
          "execution_count": 8
        }
      ]
    },
    {
      "cell_type": "markdown",
      "source": [
        "###1b)(ii) Option 2: Rename the Column"
      ],
      "metadata": {
        "id": "TEYx0TbApT3p"
      }
    },
    {
      "cell_type": "code",
      "source": [
        "df = pd.read_csv('https://www.alvinang.sg/s/rock.csv')\n",
        "\n",
        "rename_map = {\n",
        "#Original column: renamed column\n",
        "    'Song Clean':    'song', \n",
        "    'ARTIST CLEAN':  'artist', \n",
        "    'Release Year':  'release', \n",
        "    'COMBINED':      'song_artist', \n",
        "    'First?':        'first', \n",
        "    'Year?':         'year', \n",
        "    'PlayCount':     'playcount', \n",
        "    'F*G':           'fg'\n",
        "}\n",
        "\n",
        "df.rename(columns=rename_map, inplace=True)\n",
        "df.head()"
      ],
      "metadata": {
        "id": "ARqHo4WdnRMT",
        "colab": {
          "base_uri": "https://localhost:8080/",
          "height": 206
        },
        "outputId": "a367eee0-572a-4f68-a1c0-d6f3697ec61a"
      },
      "execution_count": 9,
      "outputs": [
        {
          "output_type": "execute_result",
          "data": {
            "text/plain": [
              "                     song       artist release  \\\n",
              "0        Caught Up in You  .38 Special    1982   \n",
              "1            Fantasy Girl  .38 Special     NaN   \n",
              "2         Hold On Loosely  .38 Special    1981   \n",
              "3  Rockin' Into the Night  .38 Special    1980   \n",
              "4       Art For Arts Sake         10cc    1975   \n",
              "\n",
              "                             song_artist  first  year  playcount  fg  \n",
              "0        Caught Up in You by .38 Special      1     1         82  82  \n",
              "1            Fantasy Girl by .38 Special      1     0          3   0  \n",
              "2         Hold On Loosely by .38 Special      1     1         85  85  \n",
              "3  Rockin' Into the Night by .38 Special      1     1         18  18  \n",
              "4              Art For Arts Sake by 10cc      1     1          1   1  "
            ],
            "text/html": [
              "\n",
              "  <div id=\"df-2b8854f7-ddb6-47fc-9ab4-c2caac5bf60e\">\n",
              "    <div class=\"colab-df-container\">\n",
              "      <div>\n",
              "<style scoped>\n",
              "    .dataframe tbody tr th:only-of-type {\n",
              "        vertical-align: middle;\n",
              "    }\n",
              "\n",
              "    .dataframe tbody tr th {\n",
              "        vertical-align: top;\n",
              "    }\n",
              "\n",
              "    .dataframe thead th {\n",
              "        text-align: right;\n",
              "    }\n",
              "</style>\n",
              "<table border=\"1\" class=\"dataframe\">\n",
              "  <thead>\n",
              "    <tr style=\"text-align: right;\">\n",
              "      <th></th>\n",
              "      <th>song</th>\n",
              "      <th>artist</th>\n",
              "      <th>release</th>\n",
              "      <th>song_artist</th>\n",
              "      <th>first</th>\n",
              "      <th>year</th>\n",
              "      <th>playcount</th>\n",
              "      <th>fg</th>\n",
              "    </tr>\n",
              "  </thead>\n",
              "  <tbody>\n",
              "    <tr>\n",
              "      <th>0</th>\n",
              "      <td>Caught Up in You</td>\n",
              "      <td>.38 Special</td>\n",
              "      <td>1982</td>\n",
              "      <td>Caught Up in You by .38 Special</td>\n",
              "      <td>1</td>\n",
              "      <td>1</td>\n",
              "      <td>82</td>\n",
              "      <td>82</td>\n",
              "    </tr>\n",
              "    <tr>\n",
              "      <th>1</th>\n",
              "      <td>Fantasy Girl</td>\n",
              "      <td>.38 Special</td>\n",
              "      <td>NaN</td>\n",
              "      <td>Fantasy Girl by .38 Special</td>\n",
              "      <td>1</td>\n",
              "      <td>0</td>\n",
              "      <td>3</td>\n",
              "      <td>0</td>\n",
              "    </tr>\n",
              "    <tr>\n",
              "      <th>2</th>\n",
              "      <td>Hold On Loosely</td>\n",
              "      <td>.38 Special</td>\n",
              "      <td>1981</td>\n",
              "      <td>Hold On Loosely by .38 Special</td>\n",
              "      <td>1</td>\n",
              "      <td>1</td>\n",
              "      <td>85</td>\n",
              "      <td>85</td>\n",
              "    </tr>\n",
              "    <tr>\n",
              "      <th>3</th>\n",
              "      <td>Rockin' Into the Night</td>\n",
              "      <td>.38 Special</td>\n",
              "      <td>1980</td>\n",
              "      <td>Rockin' Into the Night by .38 Special</td>\n",
              "      <td>1</td>\n",
              "      <td>1</td>\n",
              "      <td>18</td>\n",
              "      <td>18</td>\n",
              "    </tr>\n",
              "    <tr>\n",
              "      <th>4</th>\n",
              "      <td>Art For Arts Sake</td>\n",
              "      <td>10cc</td>\n",
              "      <td>1975</td>\n",
              "      <td>Art For Arts Sake by 10cc</td>\n",
              "      <td>1</td>\n",
              "      <td>1</td>\n",
              "      <td>1</td>\n",
              "      <td>1</td>\n",
              "    </tr>\n",
              "  </tbody>\n",
              "</table>\n",
              "</div>\n",
              "      <button class=\"colab-df-convert\" onclick=\"convertToInteractive('df-2b8854f7-ddb6-47fc-9ab4-c2caac5bf60e')\"\n",
              "              title=\"Convert this dataframe to an interactive table.\"\n",
              "              style=\"display:none;\">\n",
              "        \n",
              "  <svg xmlns=\"http://www.w3.org/2000/svg\" height=\"24px\"viewBox=\"0 0 24 24\"\n",
              "       width=\"24px\">\n",
              "    <path d=\"M0 0h24v24H0V0z\" fill=\"none\"/>\n",
              "    <path d=\"M18.56 5.44l.94 2.06.94-2.06 2.06-.94-2.06-.94-.94-2.06-.94 2.06-2.06.94zm-11 1L8.5 8.5l.94-2.06 2.06-.94-2.06-.94L8.5 2.5l-.94 2.06-2.06.94zm10 10l.94 2.06.94-2.06 2.06-.94-2.06-.94-.94-2.06-.94 2.06-2.06.94z\"/><path d=\"M17.41 7.96l-1.37-1.37c-.4-.4-.92-.59-1.43-.59-.52 0-1.04.2-1.43.59L10.3 9.45l-7.72 7.72c-.78.78-.78 2.05 0 2.83L4 21.41c.39.39.9.59 1.41.59.51 0 1.02-.2 1.41-.59l7.78-7.78 2.81-2.81c.8-.78.8-2.07 0-2.86zM5.41 20L4 18.59l7.72-7.72 1.47 1.35L5.41 20z\"/>\n",
              "  </svg>\n",
              "      </button>\n",
              "      \n",
              "  <style>\n",
              "    .colab-df-container {\n",
              "      display:flex;\n",
              "      flex-wrap:wrap;\n",
              "      gap: 12px;\n",
              "    }\n",
              "\n",
              "    .colab-df-convert {\n",
              "      background-color: #E8F0FE;\n",
              "      border: none;\n",
              "      border-radius: 50%;\n",
              "      cursor: pointer;\n",
              "      display: none;\n",
              "      fill: #1967D2;\n",
              "      height: 32px;\n",
              "      padding: 0 0 0 0;\n",
              "      width: 32px;\n",
              "    }\n",
              "\n",
              "    .colab-df-convert:hover {\n",
              "      background-color: #E2EBFA;\n",
              "      box-shadow: 0px 1px 2px rgba(60, 64, 67, 0.3), 0px 1px 3px 1px rgba(60, 64, 67, 0.15);\n",
              "      fill: #174EA6;\n",
              "    }\n",
              "\n",
              "    [theme=dark] .colab-df-convert {\n",
              "      background-color: #3B4455;\n",
              "      fill: #D2E3FC;\n",
              "    }\n",
              "\n",
              "    [theme=dark] .colab-df-convert:hover {\n",
              "      background-color: #434B5C;\n",
              "      box-shadow: 0px 1px 3px 1px rgba(0, 0, 0, 0.15);\n",
              "      filter: drop-shadow(0px 1px 2px rgba(0, 0, 0, 0.3));\n",
              "      fill: #FFFFFF;\n",
              "    }\n",
              "  </style>\n",
              "\n",
              "      <script>\n",
              "        const buttonEl =\n",
              "          document.querySelector('#df-2b8854f7-ddb6-47fc-9ab4-c2caac5bf60e button.colab-df-convert');\n",
              "        buttonEl.style.display =\n",
              "          google.colab.kernel.accessAllowed ? 'block' : 'none';\n",
              "\n",
              "        async function convertToInteractive(key) {\n",
              "          const element = document.querySelector('#df-2b8854f7-ddb6-47fc-9ab4-c2caac5bf60e');\n",
              "          const dataTable =\n",
              "            await google.colab.kernel.invokeFunction('convertToInteractive',\n",
              "                                                     [key], {});\n",
              "          if (!dataTable) return;\n",
              "\n",
              "          const docLinkHtml = 'Like what you see? Visit the ' +\n",
              "            '<a target=\"_blank\" href=https://colab.research.google.com/notebooks/data_table.ipynb>data table notebook</a>'\n",
              "            + ' to learn more about interactive tables.';\n",
              "          element.innerHTML = '';\n",
              "          dataTable['output_type'] = 'display_data';\n",
              "          await google.colab.output.renderOutput(dataTable, element);\n",
              "          const docLink = document.createElement('div');\n",
              "          docLink.innerHTML = docLinkHtml;\n",
              "          element.appendChild(docLink);\n",
              "        }\n",
              "      </script>\n",
              "    </div>\n",
              "  </div>\n",
              "  "
            ]
          },
          "metadata": {},
          "execution_count": 9
        }
      ]
    },
    {
      "cell_type": "markdown",
      "source": [
        "\n",
        "\n",
        "---\n",
        "\n"
      ],
      "metadata": {
        "id": "m9ieUeXpqeUp"
      }
    },
    {
      "cell_type": "markdown",
      "source": [
        "#Step 2: Check for NaNs"
      ],
      "metadata": {
        "id": "GyTEdDjJpukP"
      }
    },
    {
      "cell_type": "markdown",
      "source": [
        "##2a) df.info()"
      ],
      "metadata": {
        "id": "kYKLd-fep0w6"
      }
    },
    {
      "cell_type": "code",
      "source": [
        "df.info()\n",
        "#'release' column has MANY NaNs --> due to 1653 non-null rows"
      ],
      "metadata": {
        "colab": {
          "base_uri": "https://localhost:8080/"
        },
        "id": "QH_0rveEpprC",
        "outputId": "261e8a38-4f8c-4428-b2d7-fbdae1a0dd98"
      },
      "execution_count": 10,
      "outputs": [
        {
          "output_type": "stream",
          "name": "stdout",
          "text": [
            "<class 'pandas.core.frame.DataFrame'>\n",
            "RangeIndex: 2230 entries, 0 to 2229\n",
            "Data columns (total 8 columns):\n",
            " #   Column       Non-Null Count  Dtype \n",
            "---  ------       --------------  ----- \n",
            " 0   song         2230 non-null   object\n",
            " 1   artist       2230 non-null   object\n",
            " 2   release      1653 non-null   object\n",
            " 3   song_artist  2230 non-null   object\n",
            " 4   first        2230 non-null   int64 \n",
            " 5   year         2230 non-null   int64 \n",
            " 6   playcount    2230 non-null   int64 \n",
            " 7   fg           2230 non-null   int64 \n",
            "dtypes: int64(4), object(4)\n",
            "memory usage: 139.5+ KB\n"
          ]
        }
      ]
    },
    {
      "cell_type": "markdown",
      "source": [
        "##2b) Total Up All NaNs"
      ],
      "metadata": {
        "id": "ogcZ9s_Dp_go"
      }
    },
    {
      "cell_type": "code",
      "source": [
        "df.isnull().sum()\n",
        "#'release' column has 577 rows of NaNs"
      ],
      "metadata": {
        "colab": {
          "base_uri": "https://localhost:8080/"
        },
        "id": "J8pQN7WSqEdb",
        "outputId": "40666b64-aa5c-44c5-b6af-6f618a319fd4"
      },
      "execution_count": 11,
      "outputs": [
        {
          "output_type": "execute_result",
          "data": {
            "text/plain": [
              "song             0\n",
              "artist           0\n",
              "release        577\n",
              "song_artist      0\n",
              "first            0\n",
              "year             0\n",
              "playcount        0\n",
              "fg               0\n",
              "dtype: int64"
            ]
          },
          "metadata": {},
          "execution_count": 11
        }
      ]
    },
    {
      "cell_type": "markdown",
      "source": [
        "##2c) Display all the Release NaN Rows"
      ],
      "metadata": {
        "id": "WS4fcuPMqKIh"
      }
    },
    {
      "cell_type": "code",
      "source": [
        "df[df['release'].isnull()]"
      ],
      "metadata": {
        "colab": {
          "base_uri": "https://localhost:8080/",
          "height": 468
        },
        "id": "P0JW4PlLqV5S",
        "outputId": "9c0d8566-6207-4e71-f9f8-2c0cbdb81dc0"
      },
      "execution_count": 12,
      "outputs": [
        {
          "output_type": "execute_result",
          "data": {
            "text/plain": [
              "                          song       artist release  \\\n",
              "1                 Fantasy Girl  .38 Special     NaN   \n",
              "10       Baby, Please Don't Go        AC/DC     NaN   \n",
              "13      CAN'T STOP ROCK'N'ROLL        AC/DC     NaN   \n",
              "16            Girls Got Rhythm        AC/DC     NaN   \n",
              "24             Let's Get It Up        AC/DC     NaN   \n",
              "...                        ...          ...     ...   \n",
              "2216   I'm Bad, I'm Nationwide       ZZ Top     NaN   \n",
              "2218             Just Got Paid       ZZ Top     NaN   \n",
              "2221  My Head's In Mississippi       ZZ Top     NaN   \n",
              "2222        Party On The Patio       ZZ Top     NaN   \n",
              "2225   She Loves My Automobile       ZZ Top     NaN   \n",
              "\n",
              "                             song_artist  first  year  playcount  fg  \n",
              "1            Fantasy Girl by .38 Special      1     0          3   0  \n",
              "10        Baby, Please Don't Go by AC/DC      1     0          1   0  \n",
              "13       CAN'T STOP ROCK'N'ROLL by AC/DC      1     0          5   0  \n",
              "16             Girls Got Rhythm by AC/DC      1     0         24   0  \n",
              "24              Let's Get It Up by AC/DC      1     0          4   0  \n",
              "...                                  ...    ...   ...        ...  ..  \n",
              "2216   I'm Bad, I'm Nationwide by ZZ Top      1     0         10   0  \n",
              "2218             Just Got Paid by ZZ Top      1     0          2   0  \n",
              "2221  My Head's In Mississippi by ZZ Top      1     0          1   0  \n",
              "2222        Party On The Patio by ZZ Top      1     0         14   0  \n",
              "2225   She Loves My Automobile by ZZ Top      1     0          1   0  \n",
              "\n",
              "[577 rows x 8 columns]"
            ],
            "text/html": [
              "\n",
              "  <div id=\"df-f1f44318-bdc5-47ca-95e1-51a6fb3544d3\">\n",
              "    <div class=\"colab-df-container\">\n",
              "      <div>\n",
              "<style scoped>\n",
              "    .dataframe tbody tr th:only-of-type {\n",
              "        vertical-align: middle;\n",
              "    }\n",
              "\n",
              "    .dataframe tbody tr th {\n",
              "        vertical-align: top;\n",
              "    }\n",
              "\n",
              "    .dataframe thead th {\n",
              "        text-align: right;\n",
              "    }\n",
              "</style>\n",
              "<table border=\"1\" class=\"dataframe\">\n",
              "  <thead>\n",
              "    <tr style=\"text-align: right;\">\n",
              "      <th></th>\n",
              "      <th>song</th>\n",
              "      <th>artist</th>\n",
              "      <th>release</th>\n",
              "      <th>song_artist</th>\n",
              "      <th>first</th>\n",
              "      <th>year</th>\n",
              "      <th>playcount</th>\n",
              "      <th>fg</th>\n",
              "    </tr>\n",
              "  </thead>\n",
              "  <tbody>\n",
              "    <tr>\n",
              "      <th>1</th>\n",
              "      <td>Fantasy Girl</td>\n",
              "      <td>.38 Special</td>\n",
              "      <td>NaN</td>\n",
              "      <td>Fantasy Girl by .38 Special</td>\n",
              "      <td>1</td>\n",
              "      <td>0</td>\n",
              "      <td>3</td>\n",
              "      <td>0</td>\n",
              "    </tr>\n",
              "    <tr>\n",
              "      <th>10</th>\n",
              "      <td>Baby, Please Don't Go</td>\n",
              "      <td>AC/DC</td>\n",
              "      <td>NaN</td>\n",
              "      <td>Baby, Please Don't Go by AC/DC</td>\n",
              "      <td>1</td>\n",
              "      <td>0</td>\n",
              "      <td>1</td>\n",
              "      <td>0</td>\n",
              "    </tr>\n",
              "    <tr>\n",
              "      <th>13</th>\n",
              "      <td>CAN'T STOP ROCK'N'ROLL</td>\n",
              "      <td>AC/DC</td>\n",
              "      <td>NaN</td>\n",
              "      <td>CAN'T STOP ROCK'N'ROLL by AC/DC</td>\n",
              "      <td>1</td>\n",
              "      <td>0</td>\n",
              "      <td>5</td>\n",
              "      <td>0</td>\n",
              "    </tr>\n",
              "    <tr>\n",
              "      <th>16</th>\n",
              "      <td>Girls Got Rhythm</td>\n",
              "      <td>AC/DC</td>\n",
              "      <td>NaN</td>\n",
              "      <td>Girls Got Rhythm by AC/DC</td>\n",
              "      <td>1</td>\n",
              "      <td>0</td>\n",
              "      <td>24</td>\n",
              "      <td>0</td>\n",
              "    </tr>\n",
              "    <tr>\n",
              "      <th>24</th>\n",
              "      <td>Let's Get It Up</td>\n",
              "      <td>AC/DC</td>\n",
              "      <td>NaN</td>\n",
              "      <td>Let's Get It Up by AC/DC</td>\n",
              "      <td>1</td>\n",
              "      <td>0</td>\n",
              "      <td>4</td>\n",
              "      <td>0</td>\n",
              "    </tr>\n",
              "    <tr>\n",
              "      <th>...</th>\n",
              "      <td>...</td>\n",
              "      <td>...</td>\n",
              "      <td>...</td>\n",
              "      <td>...</td>\n",
              "      <td>...</td>\n",
              "      <td>...</td>\n",
              "      <td>...</td>\n",
              "      <td>...</td>\n",
              "    </tr>\n",
              "    <tr>\n",
              "      <th>2216</th>\n",
              "      <td>I'm Bad, I'm Nationwide</td>\n",
              "      <td>ZZ Top</td>\n",
              "      <td>NaN</td>\n",
              "      <td>I'm Bad, I'm Nationwide by ZZ Top</td>\n",
              "      <td>1</td>\n",
              "      <td>0</td>\n",
              "      <td>10</td>\n",
              "      <td>0</td>\n",
              "    </tr>\n",
              "    <tr>\n",
              "      <th>2218</th>\n",
              "      <td>Just Got Paid</td>\n",
              "      <td>ZZ Top</td>\n",
              "      <td>NaN</td>\n",
              "      <td>Just Got Paid by ZZ Top</td>\n",
              "      <td>1</td>\n",
              "      <td>0</td>\n",
              "      <td>2</td>\n",
              "      <td>0</td>\n",
              "    </tr>\n",
              "    <tr>\n",
              "      <th>2221</th>\n",
              "      <td>My Head's In Mississippi</td>\n",
              "      <td>ZZ Top</td>\n",
              "      <td>NaN</td>\n",
              "      <td>My Head's In Mississippi by ZZ Top</td>\n",
              "      <td>1</td>\n",
              "      <td>0</td>\n",
              "      <td>1</td>\n",
              "      <td>0</td>\n",
              "    </tr>\n",
              "    <tr>\n",
              "      <th>2222</th>\n",
              "      <td>Party On The Patio</td>\n",
              "      <td>ZZ Top</td>\n",
              "      <td>NaN</td>\n",
              "      <td>Party On The Patio by ZZ Top</td>\n",
              "      <td>1</td>\n",
              "      <td>0</td>\n",
              "      <td>14</td>\n",
              "      <td>0</td>\n",
              "    </tr>\n",
              "    <tr>\n",
              "      <th>2225</th>\n",
              "      <td>She Loves My Automobile</td>\n",
              "      <td>ZZ Top</td>\n",
              "      <td>NaN</td>\n",
              "      <td>She Loves My Automobile by ZZ Top</td>\n",
              "      <td>1</td>\n",
              "      <td>0</td>\n",
              "      <td>1</td>\n",
              "      <td>0</td>\n",
              "    </tr>\n",
              "  </tbody>\n",
              "</table>\n",
              "<p>577 rows × 8 columns</p>\n",
              "</div>\n",
              "      <button class=\"colab-df-convert\" onclick=\"convertToInteractive('df-f1f44318-bdc5-47ca-95e1-51a6fb3544d3')\"\n",
              "              title=\"Convert this dataframe to an interactive table.\"\n",
              "              style=\"display:none;\">\n",
              "        \n",
              "  <svg xmlns=\"http://www.w3.org/2000/svg\" height=\"24px\"viewBox=\"0 0 24 24\"\n",
              "       width=\"24px\">\n",
              "    <path d=\"M0 0h24v24H0V0z\" fill=\"none\"/>\n",
              "    <path d=\"M18.56 5.44l.94 2.06.94-2.06 2.06-.94-2.06-.94-.94-2.06-.94 2.06-2.06.94zm-11 1L8.5 8.5l.94-2.06 2.06-.94-2.06-.94L8.5 2.5l-.94 2.06-2.06.94zm10 10l.94 2.06.94-2.06 2.06-.94-2.06-.94-.94-2.06-.94 2.06-2.06.94z\"/><path d=\"M17.41 7.96l-1.37-1.37c-.4-.4-.92-.59-1.43-.59-.52 0-1.04.2-1.43.59L10.3 9.45l-7.72 7.72c-.78.78-.78 2.05 0 2.83L4 21.41c.39.39.9.59 1.41.59.51 0 1.02-.2 1.41-.59l7.78-7.78 2.81-2.81c.8-.78.8-2.07 0-2.86zM5.41 20L4 18.59l7.72-7.72 1.47 1.35L5.41 20z\"/>\n",
              "  </svg>\n",
              "      </button>\n",
              "      \n",
              "  <style>\n",
              "    .colab-df-container {\n",
              "      display:flex;\n",
              "      flex-wrap:wrap;\n",
              "      gap: 12px;\n",
              "    }\n",
              "\n",
              "    .colab-df-convert {\n",
              "      background-color: #E8F0FE;\n",
              "      border: none;\n",
              "      border-radius: 50%;\n",
              "      cursor: pointer;\n",
              "      display: none;\n",
              "      fill: #1967D2;\n",
              "      height: 32px;\n",
              "      padding: 0 0 0 0;\n",
              "      width: 32px;\n",
              "    }\n",
              "\n",
              "    .colab-df-convert:hover {\n",
              "      background-color: #E2EBFA;\n",
              "      box-shadow: 0px 1px 2px rgba(60, 64, 67, 0.3), 0px 1px 3px 1px rgba(60, 64, 67, 0.15);\n",
              "      fill: #174EA6;\n",
              "    }\n",
              "\n",
              "    [theme=dark] .colab-df-convert {\n",
              "      background-color: #3B4455;\n",
              "      fill: #D2E3FC;\n",
              "    }\n",
              "\n",
              "    [theme=dark] .colab-df-convert:hover {\n",
              "      background-color: #434B5C;\n",
              "      box-shadow: 0px 1px 3px 1px rgba(0, 0, 0, 0.15);\n",
              "      filter: drop-shadow(0px 1px 2px rgba(0, 0, 0, 0.3));\n",
              "      fill: #FFFFFF;\n",
              "    }\n",
              "  </style>\n",
              "\n",
              "      <script>\n",
              "        const buttonEl =\n",
              "          document.querySelector('#df-f1f44318-bdc5-47ca-95e1-51a6fb3544d3 button.colab-df-convert');\n",
              "        buttonEl.style.display =\n",
              "          google.colab.kernel.accessAllowed ? 'block' : 'none';\n",
              "\n",
              "        async function convertToInteractive(key) {\n",
              "          const element = document.querySelector('#df-f1f44318-bdc5-47ca-95e1-51a6fb3544d3');\n",
              "          const dataTable =\n",
              "            await google.colab.kernel.invokeFunction('convertToInteractive',\n",
              "                                                     [key], {});\n",
              "          if (!dataTable) return;\n",
              "\n",
              "          const docLinkHtml = 'Like what you see? Visit the ' +\n",
              "            '<a target=\"_blank\" href=https://colab.research.google.com/notebooks/data_table.ipynb>data table notebook</a>'\n",
              "            + ' to learn more about interactive tables.';\n",
              "          element.innerHTML = '';\n",
              "          dataTable['output_type'] = 'display_data';\n",
              "          await google.colab.output.renderOutput(dataTable, element);\n",
              "          const docLink = document.createElement('div');\n",
              "          docLink.innerHTML = docLinkHtml;\n",
              "          element.appendChild(docLink);\n",
              "        }\n",
              "      </script>\n",
              "    </div>\n",
              "  </div>\n",
              "  "
            ]
          },
          "metadata": {},
          "execution_count": 12
        }
      ]
    },
    {
      "cell_type": "markdown",
      "source": [
        "##2d) Replace all NaNs with Zeros"
      ],
      "metadata": {
        "id": "Qmh2cOmNqiNH"
      }
    },
    {
      "cell_type": "markdown",
      "source": [
        "###2d(i) Option 1"
      ],
      "metadata": {
        "id": "_tc01-SorOFd"
      }
    },
    {
      "cell_type": "code",
      "source": [
        "df.loc[df['release'].isnull(), 'release'] = 0\n",
        "df.head()"
      ],
      "metadata": {
        "colab": {
          "base_uri": "https://localhost:8080/",
          "height": 206
        },
        "id": "QztEEFqtqm0f",
        "outputId": "23a194bb-2af5-4359-e721-e89a2fe3a1e0"
      },
      "execution_count": 13,
      "outputs": [
        {
          "output_type": "execute_result",
          "data": {
            "text/plain": [
              "                     song       artist release  \\\n",
              "0        Caught Up in You  .38 Special    1982   \n",
              "1            Fantasy Girl  .38 Special       0   \n",
              "2         Hold On Loosely  .38 Special    1981   \n",
              "3  Rockin' Into the Night  .38 Special    1980   \n",
              "4       Art For Arts Sake         10cc    1975   \n",
              "\n",
              "                             song_artist  first  year  playcount  fg  \n",
              "0        Caught Up in You by .38 Special      1     1         82  82  \n",
              "1            Fantasy Girl by .38 Special      1     0          3   0  \n",
              "2         Hold On Loosely by .38 Special      1     1         85  85  \n",
              "3  Rockin' Into the Night by .38 Special      1     1         18  18  \n",
              "4              Art For Arts Sake by 10cc      1     1          1   1  "
            ],
            "text/html": [
              "\n",
              "  <div id=\"df-2fd664d9-9e13-4035-a6a9-cc3a40898833\">\n",
              "    <div class=\"colab-df-container\">\n",
              "      <div>\n",
              "<style scoped>\n",
              "    .dataframe tbody tr th:only-of-type {\n",
              "        vertical-align: middle;\n",
              "    }\n",
              "\n",
              "    .dataframe tbody tr th {\n",
              "        vertical-align: top;\n",
              "    }\n",
              "\n",
              "    .dataframe thead th {\n",
              "        text-align: right;\n",
              "    }\n",
              "</style>\n",
              "<table border=\"1\" class=\"dataframe\">\n",
              "  <thead>\n",
              "    <tr style=\"text-align: right;\">\n",
              "      <th></th>\n",
              "      <th>song</th>\n",
              "      <th>artist</th>\n",
              "      <th>release</th>\n",
              "      <th>song_artist</th>\n",
              "      <th>first</th>\n",
              "      <th>year</th>\n",
              "      <th>playcount</th>\n",
              "      <th>fg</th>\n",
              "    </tr>\n",
              "  </thead>\n",
              "  <tbody>\n",
              "    <tr>\n",
              "      <th>0</th>\n",
              "      <td>Caught Up in You</td>\n",
              "      <td>.38 Special</td>\n",
              "      <td>1982</td>\n",
              "      <td>Caught Up in You by .38 Special</td>\n",
              "      <td>1</td>\n",
              "      <td>1</td>\n",
              "      <td>82</td>\n",
              "      <td>82</td>\n",
              "    </tr>\n",
              "    <tr>\n",
              "      <th>1</th>\n",
              "      <td>Fantasy Girl</td>\n",
              "      <td>.38 Special</td>\n",
              "      <td>0</td>\n",
              "      <td>Fantasy Girl by .38 Special</td>\n",
              "      <td>1</td>\n",
              "      <td>0</td>\n",
              "      <td>3</td>\n",
              "      <td>0</td>\n",
              "    </tr>\n",
              "    <tr>\n",
              "      <th>2</th>\n",
              "      <td>Hold On Loosely</td>\n",
              "      <td>.38 Special</td>\n",
              "      <td>1981</td>\n",
              "      <td>Hold On Loosely by .38 Special</td>\n",
              "      <td>1</td>\n",
              "      <td>1</td>\n",
              "      <td>85</td>\n",
              "      <td>85</td>\n",
              "    </tr>\n",
              "    <tr>\n",
              "      <th>3</th>\n",
              "      <td>Rockin' Into the Night</td>\n",
              "      <td>.38 Special</td>\n",
              "      <td>1980</td>\n",
              "      <td>Rockin' Into the Night by .38 Special</td>\n",
              "      <td>1</td>\n",
              "      <td>1</td>\n",
              "      <td>18</td>\n",
              "      <td>18</td>\n",
              "    </tr>\n",
              "    <tr>\n",
              "      <th>4</th>\n",
              "      <td>Art For Arts Sake</td>\n",
              "      <td>10cc</td>\n",
              "      <td>1975</td>\n",
              "      <td>Art For Arts Sake by 10cc</td>\n",
              "      <td>1</td>\n",
              "      <td>1</td>\n",
              "      <td>1</td>\n",
              "      <td>1</td>\n",
              "    </tr>\n",
              "  </tbody>\n",
              "</table>\n",
              "</div>\n",
              "      <button class=\"colab-df-convert\" onclick=\"convertToInteractive('df-2fd664d9-9e13-4035-a6a9-cc3a40898833')\"\n",
              "              title=\"Convert this dataframe to an interactive table.\"\n",
              "              style=\"display:none;\">\n",
              "        \n",
              "  <svg xmlns=\"http://www.w3.org/2000/svg\" height=\"24px\"viewBox=\"0 0 24 24\"\n",
              "       width=\"24px\">\n",
              "    <path d=\"M0 0h24v24H0V0z\" fill=\"none\"/>\n",
              "    <path d=\"M18.56 5.44l.94 2.06.94-2.06 2.06-.94-2.06-.94-.94-2.06-.94 2.06-2.06.94zm-11 1L8.5 8.5l.94-2.06 2.06-.94-2.06-.94L8.5 2.5l-.94 2.06-2.06.94zm10 10l.94 2.06.94-2.06 2.06-.94-2.06-.94-.94-2.06-.94 2.06-2.06.94z\"/><path d=\"M17.41 7.96l-1.37-1.37c-.4-.4-.92-.59-1.43-.59-.52 0-1.04.2-1.43.59L10.3 9.45l-7.72 7.72c-.78.78-.78 2.05 0 2.83L4 21.41c.39.39.9.59 1.41.59.51 0 1.02-.2 1.41-.59l7.78-7.78 2.81-2.81c.8-.78.8-2.07 0-2.86zM5.41 20L4 18.59l7.72-7.72 1.47 1.35L5.41 20z\"/>\n",
              "  </svg>\n",
              "      </button>\n",
              "      \n",
              "  <style>\n",
              "    .colab-df-container {\n",
              "      display:flex;\n",
              "      flex-wrap:wrap;\n",
              "      gap: 12px;\n",
              "    }\n",
              "\n",
              "    .colab-df-convert {\n",
              "      background-color: #E8F0FE;\n",
              "      border: none;\n",
              "      border-radius: 50%;\n",
              "      cursor: pointer;\n",
              "      display: none;\n",
              "      fill: #1967D2;\n",
              "      height: 32px;\n",
              "      padding: 0 0 0 0;\n",
              "      width: 32px;\n",
              "    }\n",
              "\n",
              "    .colab-df-convert:hover {\n",
              "      background-color: #E2EBFA;\n",
              "      box-shadow: 0px 1px 2px rgba(60, 64, 67, 0.3), 0px 1px 3px 1px rgba(60, 64, 67, 0.15);\n",
              "      fill: #174EA6;\n",
              "    }\n",
              "\n",
              "    [theme=dark] .colab-df-convert {\n",
              "      background-color: #3B4455;\n",
              "      fill: #D2E3FC;\n",
              "    }\n",
              "\n",
              "    [theme=dark] .colab-df-convert:hover {\n",
              "      background-color: #434B5C;\n",
              "      box-shadow: 0px 1px 3px 1px rgba(0, 0, 0, 0.15);\n",
              "      filter: drop-shadow(0px 1px 2px rgba(0, 0, 0, 0.3));\n",
              "      fill: #FFFFFF;\n",
              "    }\n",
              "  </style>\n",
              "\n",
              "      <script>\n",
              "        const buttonEl =\n",
              "          document.querySelector('#df-2fd664d9-9e13-4035-a6a9-cc3a40898833 button.colab-df-convert');\n",
              "        buttonEl.style.display =\n",
              "          google.colab.kernel.accessAllowed ? 'block' : 'none';\n",
              "\n",
              "        async function convertToInteractive(key) {\n",
              "          const element = document.querySelector('#df-2fd664d9-9e13-4035-a6a9-cc3a40898833');\n",
              "          const dataTable =\n",
              "            await google.colab.kernel.invokeFunction('convertToInteractive',\n",
              "                                                     [key], {});\n",
              "          if (!dataTable) return;\n",
              "\n",
              "          const docLinkHtml = 'Like what you see? Visit the ' +\n",
              "            '<a target=\"_blank\" href=https://colab.research.google.com/notebooks/data_table.ipynb>data table notebook</a>'\n",
              "            + ' to learn more about interactive tables.';\n",
              "          element.innerHTML = '';\n",
              "          dataTable['output_type'] = 'display_data';\n",
              "          await google.colab.output.renderOutput(dataTable, element);\n",
              "          const docLink = document.createElement('div');\n",
              "          docLink.innerHTML = docLinkHtml;\n",
              "          element.appendChild(docLink);\n",
              "        }\n",
              "      </script>\n",
              "    </div>\n",
              "  </div>\n",
              "  "
            ]
          },
          "metadata": {},
          "execution_count": 13
        }
      ]
    },
    {
      "cell_type": "markdown",
      "source": [
        "###2d)(ii) Option 2: Alternative Way to Replace NaN with 0s"
      ],
      "metadata": {
        "id": "tZHUvpLLrRet"
      }
    },
    {
      "cell_type": "code",
      "source": [
        "df['release'].fillna(0)"
      ],
      "metadata": {
        "id": "vazKf_fJrYYo",
        "colab": {
          "base_uri": "https://localhost:8080/"
        },
        "outputId": "1fdc2d9d-e928-4db1-d3ba-177f23c5c9a4"
      },
      "execution_count": 14,
      "outputs": [
        {
          "output_type": "execute_result",
          "data": {
            "text/plain": [
              "0       1982\n",
              "1          0\n",
              "2       1981\n",
              "3       1980\n",
              "4       1975\n",
              "        ... \n",
              "2225       0\n",
              "2226    1981\n",
              "2227    1975\n",
              "2228    1983\n",
              "2229    1973\n",
              "Name: release, Length: 2230, dtype: object"
            ]
          },
          "metadata": {},
          "execution_count": 14
        }
      ]
    },
    {
      "cell_type": "markdown",
      "source": [
        "##2e) Check NaNs in Release Column"
      ],
      "metadata": {
        "id": "MTUqMMX_reD_"
      }
    },
    {
      "cell_type": "code",
      "source": [
        "df['release'].isnull().sum()\n",
        "\n",
        "#no more NaNs in Release Column!"
      ],
      "metadata": {
        "colab": {
          "base_uri": "https://localhost:8080/"
        },
        "id": "ObQo6YnZrnUc",
        "outputId": "782750f9-60b1-4368-ead9-095d87b7fc41"
      },
      "execution_count": 15,
      "outputs": [
        {
          "output_type": "execute_result",
          "data": {
            "text/plain": [
              "0"
            ]
          },
          "metadata": {},
          "execution_count": 15
        }
      ]
    },
    {
      "cell_type": "markdown",
      "source": [
        "\n",
        "\n",
        "---\n",
        "\n"
      ],
      "metadata": {
        "id": "rG-pNoyktZlt"
      }
    },
    {
      "cell_type": "markdown",
      "source": [
        "#Step 3: Changing from String to Integer Type"
      ],
      "metadata": {
        "id": "97HENkOetaog"
      }
    },
    {
      "cell_type": "markdown",
      "source": [
        "##3a) df.info()"
      ],
      "metadata": {
        "id": "Vht9iN0irxQQ"
      }
    },
    {
      "cell_type": "code",
      "source": [
        "df.info()\n",
        "#we want to change the Release column to \n",
        "#integer"
      ],
      "metadata": {
        "colab": {
          "base_uri": "https://localhost:8080/"
        },
        "id": "rl3FzcCmr047",
        "outputId": "5e3ca168-459c-46ef-a896-c6afcc9f5677"
      },
      "execution_count": 16,
      "outputs": [
        {
          "output_type": "stream",
          "name": "stdout",
          "text": [
            "<class 'pandas.core.frame.DataFrame'>\n",
            "RangeIndex: 2230 entries, 0 to 2229\n",
            "Data columns (total 8 columns):\n",
            " #   Column       Non-Null Count  Dtype \n",
            "---  ------       --------------  ----- \n",
            " 0   song         2230 non-null   object\n",
            " 1   artist       2230 non-null   object\n",
            " 2   release      2230 non-null   object\n",
            " 3   song_artist  2230 non-null   object\n",
            " 4   first        2230 non-null   int64 \n",
            " 5   year         2230 non-null   int64 \n",
            " 6   playcount    2230 non-null   int64 \n",
            " 7   fg           2230 non-null   int64 \n",
            "dtypes: int64(4), object(4)\n",
            "memory usage: 139.5+ KB\n"
          ]
        }
      ]
    },
    {
      "cell_type": "markdown",
      "source": [
        "##3b) Attempting to change Release column fromn String to Integer"
      ],
      "metadata": {
        "id": "V8xelstFtXZ7"
      }
    },
    {
      "cell_type": "code",
      "source": [
        "df['release'] = df['release'].map(lambda x: int(x))\n",
        "\n",
        "#Value error: 'SONFACTS.COM'"
      ],
      "metadata": {
        "colab": {
          "base_uri": "https://localhost:8080/",
          "height": 311
        },
        "id": "LTO2JgITr6FP",
        "outputId": "d7507849-9351-430c-b695-a7c6720155d4"
      },
      "execution_count": 17,
      "outputs": [
        {
          "output_type": "error",
          "ename": "ValueError",
          "evalue": "ignored",
          "traceback": [
            "\u001b[0;31m---------------------------------------------------------------------------\u001b[0m",
            "\u001b[0;31mValueError\u001b[0m                                Traceback (most recent call last)",
            "\u001b[0;32m<ipython-input-17-f8e2848b1449>\u001b[0m in \u001b[0;36m<module>\u001b[0;34m()\u001b[0m\n\u001b[0;32m----> 1\u001b[0;31m \u001b[0mdf\u001b[0m\u001b[0;34m[\u001b[0m\u001b[0;34m'release'\u001b[0m\u001b[0;34m]\u001b[0m \u001b[0;34m=\u001b[0m \u001b[0mdf\u001b[0m\u001b[0;34m[\u001b[0m\u001b[0;34m'release'\u001b[0m\u001b[0;34m]\u001b[0m\u001b[0;34m.\u001b[0m\u001b[0mmap\u001b[0m\u001b[0;34m(\u001b[0m\u001b[0;32mlambda\u001b[0m \u001b[0mx\u001b[0m\u001b[0;34m:\u001b[0m \u001b[0mint\u001b[0m\u001b[0;34m(\u001b[0m\u001b[0mx\u001b[0m\u001b[0;34m)\u001b[0m\u001b[0;34m)\u001b[0m\u001b[0;34m\u001b[0m\u001b[0;34m\u001b[0m\u001b[0m\n\u001b[0m\u001b[1;32m      2\u001b[0m \u001b[0;34m\u001b[0m\u001b[0m\n\u001b[1;32m      3\u001b[0m \u001b[0;31m#Value error: 'SONFACTS.COM'\u001b[0m\u001b[0;34m\u001b[0m\u001b[0;34m\u001b[0m\u001b[0;34m\u001b[0m\u001b[0m\n",
            "\u001b[0;32m/usr/local/lib/python3.7/dist-packages/pandas/core/series.py\u001b[0m in \u001b[0;36mmap\u001b[0;34m(self, arg, na_action)\u001b[0m\n\u001b[1;32m   4159\u001b[0m         \u001b[0mdtype\u001b[0m\u001b[0;34m:\u001b[0m \u001b[0mobject\u001b[0m\u001b[0;34m\u001b[0m\u001b[0;34m\u001b[0m\u001b[0m\n\u001b[1;32m   4160\u001b[0m         \"\"\"\n\u001b[0;32m-> 4161\u001b[0;31m         \u001b[0mnew_values\u001b[0m \u001b[0;34m=\u001b[0m \u001b[0msuper\u001b[0m\u001b[0;34m(\u001b[0m\u001b[0;34m)\u001b[0m\u001b[0;34m.\u001b[0m\u001b[0m_map_values\u001b[0m\u001b[0;34m(\u001b[0m\u001b[0marg\u001b[0m\u001b[0;34m,\u001b[0m \u001b[0mna_action\u001b[0m\u001b[0;34m=\u001b[0m\u001b[0mna_action\u001b[0m\u001b[0;34m)\u001b[0m\u001b[0;34m\u001b[0m\u001b[0;34m\u001b[0m\u001b[0m\n\u001b[0m\u001b[1;32m   4162\u001b[0m         return self._constructor(new_values, index=self.index).__finalize__(\n\u001b[1;32m   4163\u001b[0m             \u001b[0mself\u001b[0m\u001b[0;34m,\u001b[0m \u001b[0mmethod\u001b[0m\u001b[0;34m=\u001b[0m\u001b[0;34m\"map\"\u001b[0m\u001b[0;34m\u001b[0m\u001b[0;34m\u001b[0m\u001b[0m\n",
            "\u001b[0;32m/usr/local/lib/python3.7/dist-packages/pandas/core/base.py\u001b[0m in \u001b[0;36m_map_values\u001b[0;34m(self, mapper, na_action)\u001b[0m\n\u001b[1;32m    868\u001b[0m \u001b[0;34m\u001b[0m\u001b[0m\n\u001b[1;32m    869\u001b[0m         \u001b[0;31m# mapper is a function\u001b[0m\u001b[0;34m\u001b[0m\u001b[0;34m\u001b[0m\u001b[0;34m\u001b[0m\u001b[0m\n\u001b[0;32m--> 870\u001b[0;31m         \u001b[0mnew_values\u001b[0m \u001b[0;34m=\u001b[0m \u001b[0mmap_f\u001b[0m\u001b[0;34m(\u001b[0m\u001b[0mvalues\u001b[0m\u001b[0;34m,\u001b[0m \u001b[0mmapper\u001b[0m\u001b[0;34m)\u001b[0m\u001b[0;34m\u001b[0m\u001b[0;34m\u001b[0m\u001b[0m\n\u001b[0m\u001b[1;32m    871\u001b[0m \u001b[0;34m\u001b[0m\u001b[0m\n\u001b[1;32m    872\u001b[0m         \u001b[0;32mreturn\u001b[0m \u001b[0mnew_values\u001b[0m\u001b[0;34m\u001b[0m\u001b[0;34m\u001b[0m\u001b[0m\n",
            "\u001b[0;32m/usr/local/lib/python3.7/dist-packages/pandas/_libs/lib.pyx\u001b[0m in \u001b[0;36mpandas._libs.lib.map_infer\u001b[0;34m()\u001b[0m\n",
            "\u001b[0;32m<ipython-input-17-f8e2848b1449>\u001b[0m in \u001b[0;36m<lambda>\u001b[0;34m(x)\u001b[0m\n\u001b[0;32m----> 1\u001b[0;31m \u001b[0mdf\u001b[0m\u001b[0;34m[\u001b[0m\u001b[0;34m'release'\u001b[0m\u001b[0;34m]\u001b[0m \u001b[0;34m=\u001b[0m \u001b[0mdf\u001b[0m\u001b[0;34m[\u001b[0m\u001b[0;34m'release'\u001b[0m\u001b[0;34m]\u001b[0m\u001b[0;34m.\u001b[0m\u001b[0mmap\u001b[0m\u001b[0;34m(\u001b[0m\u001b[0;32mlambda\u001b[0m \u001b[0mx\u001b[0m\u001b[0;34m:\u001b[0m \u001b[0mint\u001b[0m\u001b[0;34m(\u001b[0m\u001b[0mx\u001b[0m\u001b[0;34m)\u001b[0m\u001b[0;34m)\u001b[0m\u001b[0;34m\u001b[0m\u001b[0;34m\u001b[0m\u001b[0m\n\u001b[0m\u001b[1;32m      2\u001b[0m \u001b[0;34m\u001b[0m\u001b[0m\n\u001b[1;32m      3\u001b[0m \u001b[0;31m#Value error: 'SONFACTS.COM'\u001b[0m\u001b[0;34m\u001b[0m\u001b[0;34m\u001b[0m\u001b[0;34m\u001b[0m\u001b[0m\n",
            "\u001b[0;31mValueError\u001b[0m: invalid literal for int() with base 10: 'SONGFACTS.COM'"
          ]
        }
      ]
    },
    {
      "cell_type": "markdown",
      "source": [
        "##3c) Check All Unique Values in Release Column"
      ],
      "metadata": {
        "id": "3TSxqmwLuDi6"
      }
    },
    {
      "cell_type": "code",
      "source": [
        "df.release.unique()\n",
        "\n",
        "#there is Dirty Data 'SONGFACTS.COM'"
      ],
      "metadata": {
        "colab": {
          "base_uri": "https://localhost:8080/"
        },
        "id": "OSSbxxExuJNU",
        "outputId": "7d69394f-57f1-49c1-ef99-8511665a872d"
      },
      "execution_count": 18,
      "outputs": [
        {
          "output_type": "execute_result",
          "data": {
            "text/plain": [
              "array(['1982', 0, '1981', '1980', '1975', '2000', '2002', '1992', '1985',\n",
              "       '1993', '1976', '1995', '1979', '1984', '1977', '1990', '1986',\n",
              "       '1974', '2014', '1987', '1973', '2001', '1989', '1997', '1971',\n",
              "       '1972', '1994', '1970', '1966', '1965', '1983', '1955', '1978',\n",
              "       '1969', '1999', '1968', '1988', '1962', '2007', '1967', '1958',\n",
              "       '1071', '1996', '1991', '2005', '2011', '2004', '2012', '2003',\n",
              "       '1998', '2008', '1964', '2013', '2006', 'SONGFACTS.COM', '1963',\n",
              "       '1961'], dtype=object)"
            ]
          },
          "metadata": {},
          "execution_count": 18
        }
      ]
    },
    {
      "cell_type": "markdown",
      "source": [
        "##3d) Change SONGFACTS to 1972"
      ],
      "metadata": {
        "id": "9tagt5P5uS4H"
      }
    },
    {
      "cell_type": "code",
      "source": [
        "df[df['release'] == \"SONGFACTS.COM\"]"
      ],
      "metadata": {
        "colab": {
          "base_uri": "https://localhost:8080/",
          "height": 125
        },
        "id": "Koz4u2zcueG7",
        "outputId": "2a7b1bb6-dc7d-4802-b6e4-8d2f873624da"
      },
      "execution_count": 19,
      "outputs": [
        {
          "output_type": "execute_result",
          "data": {
            "text/plain": [
              "                song          artist        release  \\\n",
              "1504  Bullfrog Blues  Rory Gallagher  SONGFACTS.COM   \n",
              "\n",
              "                           song_artist  first  year  playcount  fg  \n",
              "1504  Bullfrog Blues by Rory Gallagher      1     1          1   1  "
            ],
            "text/html": [
              "\n",
              "  <div id=\"df-8132aa69-9472-4b68-8684-8416502109cb\">\n",
              "    <div class=\"colab-df-container\">\n",
              "      <div>\n",
              "<style scoped>\n",
              "    .dataframe tbody tr th:only-of-type {\n",
              "        vertical-align: middle;\n",
              "    }\n",
              "\n",
              "    .dataframe tbody tr th {\n",
              "        vertical-align: top;\n",
              "    }\n",
              "\n",
              "    .dataframe thead th {\n",
              "        text-align: right;\n",
              "    }\n",
              "</style>\n",
              "<table border=\"1\" class=\"dataframe\">\n",
              "  <thead>\n",
              "    <tr style=\"text-align: right;\">\n",
              "      <th></th>\n",
              "      <th>song</th>\n",
              "      <th>artist</th>\n",
              "      <th>release</th>\n",
              "      <th>song_artist</th>\n",
              "      <th>first</th>\n",
              "      <th>year</th>\n",
              "      <th>playcount</th>\n",
              "      <th>fg</th>\n",
              "    </tr>\n",
              "  </thead>\n",
              "  <tbody>\n",
              "    <tr>\n",
              "      <th>1504</th>\n",
              "      <td>Bullfrog Blues</td>\n",
              "      <td>Rory Gallagher</td>\n",
              "      <td>SONGFACTS.COM</td>\n",
              "      <td>Bullfrog Blues by Rory Gallagher</td>\n",
              "      <td>1</td>\n",
              "      <td>1</td>\n",
              "      <td>1</td>\n",
              "      <td>1</td>\n",
              "    </tr>\n",
              "  </tbody>\n",
              "</table>\n",
              "</div>\n",
              "      <button class=\"colab-df-convert\" onclick=\"convertToInteractive('df-8132aa69-9472-4b68-8684-8416502109cb')\"\n",
              "              title=\"Convert this dataframe to an interactive table.\"\n",
              "              style=\"display:none;\">\n",
              "        \n",
              "  <svg xmlns=\"http://www.w3.org/2000/svg\" height=\"24px\"viewBox=\"0 0 24 24\"\n",
              "       width=\"24px\">\n",
              "    <path d=\"M0 0h24v24H0V0z\" fill=\"none\"/>\n",
              "    <path d=\"M18.56 5.44l.94 2.06.94-2.06 2.06-.94-2.06-.94-.94-2.06-.94 2.06-2.06.94zm-11 1L8.5 8.5l.94-2.06 2.06-.94-2.06-.94L8.5 2.5l-.94 2.06-2.06.94zm10 10l.94 2.06.94-2.06 2.06-.94-2.06-.94-.94-2.06-.94 2.06-2.06.94z\"/><path d=\"M17.41 7.96l-1.37-1.37c-.4-.4-.92-.59-1.43-.59-.52 0-1.04.2-1.43.59L10.3 9.45l-7.72 7.72c-.78.78-.78 2.05 0 2.83L4 21.41c.39.39.9.59 1.41.59.51 0 1.02-.2 1.41-.59l7.78-7.78 2.81-2.81c.8-.78.8-2.07 0-2.86zM5.41 20L4 18.59l7.72-7.72 1.47 1.35L5.41 20z\"/>\n",
              "  </svg>\n",
              "      </button>\n",
              "      \n",
              "  <style>\n",
              "    .colab-df-container {\n",
              "      display:flex;\n",
              "      flex-wrap:wrap;\n",
              "      gap: 12px;\n",
              "    }\n",
              "\n",
              "    .colab-df-convert {\n",
              "      background-color: #E8F0FE;\n",
              "      border: none;\n",
              "      border-radius: 50%;\n",
              "      cursor: pointer;\n",
              "      display: none;\n",
              "      fill: #1967D2;\n",
              "      height: 32px;\n",
              "      padding: 0 0 0 0;\n",
              "      width: 32px;\n",
              "    }\n",
              "\n",
              "    .colab-df-convert:hover {\n",
              "      background-color: #E2EBFA;\n",
              "      box-shadow: 0px 1px 2px rgba(60, 64, 67, 0.3), 0px 1px 3px 1px rgba(60, 64, 67, 0.15);\n",
              "      fill: #174EA6;\n",
              "    }\n",
              "\n",
              "    [theme=dark] .colab-df-convert {\n",
              "      background-color: #3B4455;\n",
              "      fill: #D2E3FC;\n",
              "    }\n",
              "\n",
              "    [theme=dark] .colab-df-convert:hover {\n",
              "      background-color: #434B5C;\n",
              "      box-shadow: 0px 1px 3px 1px rgba(0, 0, 0, 0.15);\n",
              "      filter: drop-shadow(0px 1px 2px rgba(0, 0, 0, 0.3));\n",
              "      fill: #FFFFFF;\n",
              "    }\n",
              "  </style>\n",
              "\n",
              "      <script>\n",
              "        const buttonEl =\n",
              "          document.querySelector('#df-8132aa69-9472-4b68-8684-8416502109cb button.colab-df-convert');\n",
              "        buttonEl.style.display =\n",
              "          google.colab.kernel.accessAllowed ? 'block' : 'none';\n",
              "\n",
              "        async function convertToInteractive(key) {\n",
              "          const element = document.querySelector('#df-8132aa69-9472-4b68-8684-8416502109cb');\n",
              "          const dataTable =\n",
              "            await google.colab.kernel.invokeFunction('convertToInteractive',\n",
              "                                                     [key], {});\n",
              "          if (!dataTable) return;\n",
              "\n",
              "          const docLinkHtml = 'Like what you see? Visit the ' +\n",
              "            '<a target=\"_blank\" href=https://colab.research.google.com/notebooks/data_table.ipynb>data table notebook</a>'\n",
              "            + ' to learn more about interactive tables.';\n",
              "          element.innerHTML = '';\n",
              "          dataTable['output_type'] = 'display_data';\n",
              "          await google.colab.output.renderOutput(dataTable, element);\n",
              "          const docLink = document.createElement('div');\n",
              "          docLink.innerHTML = docLinkHtml;\n",
              "          element.appendChild(docLink);\n",
              "        }\n",
              "      </script>\n",
              "    </div>\n",
              "  </div>\n",
              "  "
            ]
          },
          "metadata": {},
          "execution_count": 19
        }
      ]
    },
    {
      "cell_type": "code",
      "source": [
        "df.loc[\n",
        "       df['release'] == \"SONGFACTS.COM\", \n",
        "       'release']\\\n",
        "       =1972"
      ],
      "metadata": {
        "id": "O1exkwJJujS_"
      },
      "execution_count": 20,
      "outputs": []
    },
    {
      "cell_type": "code",
      "source": [
        "df.iloc[1504:1505]\n",
        "#Row 1504 Release has been changed to 1972"
      ],
      "metadata": {
        "colab": {
          "base_uri": "https://localhost:8080/",
          "height": 81
        },
        "id": "4MfyGl67vDt2",
        "outputId": "91616003-ec49-445c-e711-ebf4a4fa096c"
      },
      "execution_count": 21,
      "outputs": [
        {
          "output_type": "execute_result",
          "data": {
            "text/plain": [
              "                song          artist release  \\\n",
              "1504  Bullfrog Blues  Rory Gallagher    1972   \n",
              "\n",
              "                           song_artist  first  year  playcount  fg  \n",
              "1504  Bullfrog Blues by Rory Gallagher      1     1          1   1  "
            ],
            "text/html": [
              "\n",
              "  <div id=\"df-c3bed9fe-2986-460d-bae4-e4a73874bdab\">\n",
              "    <div class=\"colab-df-container\">\n",
              "      <div>\n",
              "<style scoped>\n",
              "    .dataframe tbody tr th:only-of-type {\n",
              "        vertical-align: middle;\n",
              "    }\n",
              "\n",
              "    .dataframe tbody tr th {\n",
              "        vertical-align: top;\n",
              "    }\n",
              "\n",
              "    .dataframe thead th {\n",
              "        text-align: right;\n",
              "    }\n",
              "</style>\n",
              "<table border=\"1\" class=\"dataframe\">\n",
              "  <thead>\n",
              "    <tr style=\"text-align: right;\">\n",
              "      <th></th>\n",
              "      <th>song</th>\n",
              "      <th>artist</th>\n",
              "      <th>release</th>\n",
              "      <th>song_artist</th>\n",
              "      <th>first</th>\n",
              "      <th>year</th>\n",
              "      <th>playcount</th>\n",
              "      <th>fg</th>\n",
              "    </tr>\n",
              "  </thead>\n",
              "  <tbody>\n",
              "    <tr>\n",
              "      <th>1504</th>\n",
              "      <td>Bullfrog Blues</td>\n",
              "      <td>Rory Gallagher</td>\n",
              "      <td>1972</td>\n",
              "      <td>Bullfrog Blues by Rory Gallagher</td>\n",
              "      <td>1</td>\n",
              "      <td>1</td>\n",
              "      <td>1</td>\n",
              "      <td>1</td>\n",
              "    </tr>\n",
              "  </tbody>\n",
              "</table>\n",
              "</div>\n",
              "      <button class=\"colab-df-convert\" onclick=\"convertToInteractive('df-c3bed9fe-2986-460d-bae4-e4a73874bdab')\"\n",
              "              title=\"Convert this dataframe to an interactive table.\"\n",
              "              style=\"display:none;\">\n",
              "        \n",
              "  <svg xmlns=\"http://www.w3.org/2000/svg\" height=\"24px\"viewBox=\"0 0 24 24\"\n",
              "       width=\"24px\">\n",
              "    <path d=\"M0 0h24v24H0V0z\" fill=\"none\"/>\n",
              "    <path d=\"M18.56 5.44l.94 2.06.94-2.06 2.06-.94-2.06-.94-.94-2.06-.94 2.06-2.06.94zm-11 1L8.5 8.5l.94-2.06 2.06-.94-2.06-.94L8.5 2.5l-.94 2.06-2.06.94zm10 10l.94 2.06.94-2.06 2.06-.94-2.06-.94-.94-2.06-.94 2.06-2.06.94z\"/><path d=\"M17.41 7.96l-1.37-1.37c-.4-.4-.92-.59-1.43-.59-.52 0-1.04.2-1.43.59L10.3 9.45l-7.72 7.72c-.78.78-.78 2.05 0 2.83L4 21.41c.39.39.9.59 1.41.59.51 0 1.02-.2 1.41-.59l7.78-7.78 2.81-2.81c.8-.78.8-2.07 0-2.86zM5.41 20L4 18.59l7.72-7.72 1.47 1.35L5.41 20z\"/>\n",
              "  </svg>\n",
              "      </button>\n",
              "      \n",
              "  <style>\n",
              "    .colab-df-container {\n",
              "      display:flex;\n",
              "      flex-wrap:wrap;\n",
              "      gap: 12px;\n",
              "    }\n",
              "\n",
              "    .colab-df-convert {\n",
              "      background-color: #E8F0FE;\n",
              "      border: none;\n",
              "      border-radius: 50%;\n",
              "      cursor: pointer;\n",
              "      display: none;\n",
              "      fill: #1967D2;\n",
              "      height: 32px;\n",
              "      padding: 0 0 0 0;\n",
              "      width: 32px;\n",
              "    }\n",
              "\n",
              "    .colab-df-convert:hover {\n",
              "      background-color: #E2EBFA;\n",
              "      box-shadow: 0px 1px 2px rgba(60, 64, 67, 0.3), 0px 1px 3px 1px rgba(60, 64, 67, 0.15);\n",
              "      fill: #174EA6;\n",
              "    }\n",
              "\n",
              "    [theme=dark] .colab-df-convert {\n",
              "      background-color: #3B4455;\n",
              "      fill: #D2E3FC;\n",
              "    }\n",
              "\n",
              "    [theme=dark] .colab-df-convert:hover {\n",
              "      background-color: #434B5C;\n",
              "      box-shadow: 0px 1px 3px 1px rgba(0, 0, 0, 0.15);\n",
              "      filter: drop-shadow(0px 1px 2px rgba(0, 0, 0, 0.3));\n",
              "      fill: #FFFFFF;\n",
              "    }\n",
              "  </style>\n",
              "\n",
              "      <script>\n",
              "        const buttonEl =\n",
              "          document.querySelector('#df-c3bed9fe-2986-460d-bae4-e4a73874bdab button.colab-df-convert');\n",
              "        buttonEl.style.display =\n",
              "          google.colab.kernel.accessAllowed ? 'block' : 'none';\n",
              "\n",
              "        async function convertToInteractive(key) {\n",
              "          const element = document.querySelector('#df-c3bed9fe-2986-460d-bae4-e4a73874bdab');\n",
              "          const dataTable =\n",
              "            await google.colab.kernel.invokeFunction('convertToInteractive',\n",
              "                                                     [key], {});\n",
              "          if (!dataTable) return;\n",
              "\n",
              "          const docLinkHtml = 'Like what you see? Visit the ' +\n",
              "            '<a target=\"_blank\" href=https://colab.research.google.com/notebooks/data_table.ipynb>data table notebook</a>'\n",
              "            + ' to learn more about interactive tables.';\n",
              "          element.innerHTML = '';\n",
              "          dataTable['output_type'] = 'display_data';\n",
              "          await google.colab.output.renderOutput(dataTable, element);\n",
              "          const docLink = document.createElement('div');\n",
              "          docLink.innerHTML = docLinkHtml;\n",
              "          element.appendChild(docLink);\n",
              "        }\n",
              "      </script>\n",
              "    </div>\n",
              "  </div>\n",
              "  "
            ]
          },
          "metadata": {},
          "execution_count": 21
        }
      ]
    },
    {
      "cell_type": "markdown",
      "source": [
        "##3e) Retrying Conversion"
      ],
      "metadata": {
        "id": "wXzOnrGmvNIi"
      }
    },
    {
      "cell_type": "code",
      "source": [
        "df['release'] = df['release'].\\\n",
        "                map(lambda x: int(x))"
      ],
      "metadata": {
        "id": "OEsSCrW9vSuL"
      },
      "execution_count": 22,
      "outputs": []
    },
    {
      "cell_type": "code",
      "source": [
        "df.info()\n",
        "\n",
        "#Release has been changed to Integer!"
      ],
      "metadata": {
        "colab": {
          "base_uri": "https://localhost:8080/"
        },
        "id": "PwZU7_31vgI6",
        "outputId": "a6f49100-b8fe-4e6f-98d0-b1d588a38a7e"
      },
      "execution_count": 23,
      "outputs": [
        {
          "output_type": "stream",
          "name": "stdout",
          "text": [
            "<class 'pandas.core.frame.DataFrame'>\n",
            "RangeIndex: 2230 entries, 0 to 2229\n",
            "Data columns (total 8 columns):\n",
            " #   Column       Non-Null Count  Dtype \n",
            "---  ------       --------------  ----- \n",
            " 0   song         2230 non-null   object\n",
            " 1   artist       2230 non-null   object\n",
            " 2   release      2230 non-null   int64 \n",
            " 3   song_artist  2230 non-null   object\n",
            " 4   first        2230 non-null   int64 \n",
            " 5   year         2230 non-null   int64 \n",
            " 6   playcount    2230 non-null   int64 \n",
            " 7   fg           2230 non-null   int64 \n",
            "dtypes: int64(5), object(3)\n",
            "memory usage: 139.5+ KB\n"
          ]
        }
      ]
    },
    {
      "cell_type": "markdown",
      "source": [
        "\n",
        "\n",
        "---\n",
        "\n"
      ],
      "metadata": {
        "id": "VT4buuuGw0l3"
      }
    },
    {
      "cell_type": "markdown",
      "source": [
        "#Step 4: Adjusting the Minimum Release Year "
      ],
      "metadata": {
        "id": "A0PIsY99wwX5"
      }
    },
    {
      "cell_type": "markdown",
      "source": [
        "##4a) df.describe()"
      ],
      "metadata": {
        "id": "CDaDhi6uw5-Z"
      }
    },
    {
      "cell_type": "code",
      "source": [
        "df['release'].describe()\n",
        "\n",
        "#maximum year of release = 2014\n",
        "#but Minimum year of release = 0?\n",
        "#something is wrong???"
      ],
      "metadata": {
        "colab": {
          "base_uri": "https://localhost:8080/"
        },
        "id": "XHS1ED6Qw9EF",
        "outputId": "05a83c34-02be-474f-8211-1752dfd24a55"
      },
      "execution_count": 24,
      "outputs": [
        {
          "output_type": "execute_result",
          "data": {
            "text/plain": [
              "count    2230.000000\n",
              "mean     1466.215695\n",
              "std       866.706564\n",
              "min         0.000000\n",
              "25%         0.000000\n",
              "50%      1973.000000\n",
              "75%      1981.000000\n",
              "max      2014.000000\n",
              "Name: release, dtype: float64"
            ]
          },
          "metadata": {},
          "execution_count": 24
        }
      ]
    },
    {
      "cell_type": "markdown",
      "source": [
        "##4b) Adjusting the Min Release Year"
      ],
      "metadata": {
        "id": "nZ7Mx1AdxJk0"
      }
    },
    {
      "cell_type": "code",
      "source": [
        "min_release_year = df[df['release']>0]\n",
        "\n",
        "#minimum release year allowed must be > 0"
      ],
      "metadata": {
        "id": "iq_N15wnxGjw"
      },
      "execution_count": 25,
      "outputs": []
    },
    {
      "cell_type": "code",
      "source": [
        "min_release_year['release'].describe()\n",
        "\n",
        "#note that the earliest release year = 1071\n",
        "#isn't it strange for songs to be releaseed 1071???"
      ],
      "metadata": {
        "colab": {
          "base_uri": "https://localhost:8080/"
        },
        "id": "ROMMjMX2xWGf",
        "outputId": "38c34cc4-2602-492e-df16-64faa884e41a"
      },
      "execution_count": 26,
      "outputs": [
        {
          "output_type": "execute_result",
          "data": {
            "text/plain": [
              "count    1653.000000\n",
              "mean     1978.016334\n",
              "std        24.184378\n",
              "min      1071.000000\n",
              "25%      1971.000000\n",
              "50%      1977.000000\n",
              "75%      1984.000000\n",
              "max      2014.000000\n",
              "Name: release, dtype: float64"
            ]
          },
          "metadata": {},
          "execution_count": 26
        }
      ]
    },
    {
      "cell_type": "markdown",
      "source": [
        "##4c) Imposing a Cut Off for Release Year"
      ],
      "metadata": {
        "id": "zPcxPMMuxjfe"
      }
    },
    {
      "cell_type": "code",
      "source": [
        "min_release_year[df.release == 1071]\n",
        "\n",
        "#row 547 has release year = 1071\n",
        "#obviously this is wrong, its corrupted and should be replaced with something else"
      ],
      "metadata": {
        "colab": {
          "base_uri": "https://localhost:8080/",
          "height": 135
        },
        "id": "6C7hB3MOxtF4",
        "outputId": "7170b92f-9940-451e-f664-363a449665e6"
      },
      "execution_count": 27,
      "outputs": [
        {
          "output_type": "stream",
          "name": "stderr",
          "text": [
            "/usr/local/lib/python3.7/dist-packages/ipykernel_launcher.py:1: UserWarning: Boolean Series key will be reindexed to match DataFrame index.\n",
            "  \"\"\"Entry point for launching an IPython kernel.\n"
          ]
        },
        {
          "output_type": "execute_result",
          "data": {
            "text/plain": [
              "      song      artist  release          song_artist  first  year  playcount  \\\n",
              "547  Levon  Elton John     1071  Levon by Elton John      1     1          8   \n",
              "\n",
              "     fg  \n",
              "547   8  "
            ],
            "text/html": [
              "\n",
              "  <div id=\"df-83aedf8f-99e1-4c8f-ae32-64480d469228\">\n",
              "    <div class=\"colab-df-container\">\n",
              "      <div>\n",
              "<style scoped>\n",
              "    .dataframe tbody tr th:only-of-type {\n",
              "        vertical-align: middle;\n",
              "    }\n",
              "\n",
              "    .dataframe tbody tr th {\n",
              "        vertical-align: top;\n",
              "    }\n",
              "\n",
              "    .dataframe thead th {\n",
              "        text-align: right;\n",
              "    }\n",
              "</style>\n",
              "<table border=\"1\" class=\"dataframe\">\n",
              "  <thead>\n",
              "    <tr style=\"text-align: right;\">\n",
              "      <th></th>\n",
              "      <th>song</th>\n",
              "      <th>artist</th>\n",
              "      <th>release</th>\n",
              "      <th>song_artist</th>\n",
              "      <th>first</th>\n",
              "      <th>year</th>\n",
              "      <th>playcount</th>\n",
              "      <th>fg</th>\n",
              "    </tr>\n",
              "  </thead>\n",
              "  <tbody>\n",
              "    <tr>\n",
              "      <th>547</th>\n",
              "      <td>Levon</td>\n",
              "      <td>Elton John</td>\n",
              "      <td>1071</td>\n",
              "      <td>Levon by Elton John</td>\n",
              "      <td>1</td>\n",
              "      <td>1</td>\n",
              "      <td>8</td>\n",
              "      <td>8</td>\n",
              "    </tr>\n",
              "  </tbody>\n",
              "</table>\n",
              "</div>\n",
              "      <button class=\"colab-df-convert\" onclick=\"convertToInteractive('df-83aedf8f-99e1-4c8f-ae32-64480d469228')\"\n",
              "              title=\"Convert this dataframe to an interactive table.\"\n",
              "              style=\"display:none;\">\n",
              "        \n",
              "  <svg xmlns=\"http://www.w3.org/2000/svg\" height=\"24px\"viewBox=\"0 0 24 24\"\n",
              "       width=\"24px\">\n",
              "    <path d=\"M0 0h24v24H0V0z\" fill=\"none\"/>\n",
              "    <path d=\"M18.56 5.44l.94 2.06.94-2.06 2.06-.94-2.06-.94-.94-2.06-.94 2.06-2.06.94zm-11 1L8.5 8.5l.94-2.06 2.06-.94-2.06-.94L8.5 2.5l-.94 2.06-2.06.94zm10 10l.94 2.06.94-2.06 2.06-.94-2.06-.94-.94-2.06-.94 2.06-2.06.94z\"/><path d=\"M17.41 7.96l-1.37-1.37c-.4-.4-.92-.59-1.43-.59-.52 0-1.04.2-1.43.59L10.3 9.45l-7.72 7.72c-.78.78-.78 2.05 0 2.83L4 21.41c.39.39.9.59 1.41.59.51 0 1.02-.2 1.41-.59l7.78-7.78 2.81-2.81c.8-.78.8-2.07 0-2.86zM5.41 20L4 18.59l7.72-7.72 1.47 1.35L5.41 20z\"/>\n",
              "  </svg>\n",
              "      </button>\n",
              "      \n",
              "  <style>\n",
              "    .colab-df-container {\n",
              "      display:flex;\n",
              "      flex-wrap:wrap;\n",
              "      gap: 12px;\n",
              "    }\n",
              "\n",
              "    .colab-df-convert {\n",
              "      background-color: #E8F0FE;\n",
              "      border: none;\n",
              "      border-radius: 50%;\n",
              "      cursor: pointer;\n",
              "      display: none;\n",
              "      fill: #1967D2;\n",
              "      height: 32px;\n",
              "      padding: 0 0 0 0;\n",
              "      width: 32px;\n",
              "    }\n",
              "\n",
              "    .colab-df-convert:hover {\n",
              "      background-color: #E2EBFA;\n",
              "      box-shadow: 0px 1px 2px rgba(60, 64, 67, 0.3), 0px 1px 3px 1px rgba(60, 64, 67, 0.15);\n",
              "      fill: #174EA6;\n",
              "    }\n",
              "\n",
              "    [theme=dark] .colab-df-convert {\n",
              "      background-color: #3B4455;\n",
              "      fill: #D2E3FC;\n",
              "    }\n",
              "\n",
              "    [theme=dark] .colab-df-convert:hover {\n",
              "      background-color: #434B5C;\n",
              "      box-shadow: 0px 1px 3px 1px rgba(0, 0, 0, 0.15);\n",
              "      filter: drop-shadow(0px 1px 2px rgba(0, 0, 0, 0.3));\n",
              "      fill: #FFFFFF;\n",
              "    }\n",
              "  </style>\n",
              "\n",
              "      <script>\n",
              "        const buttonEl =\n",
              "          document.querySelector('#df-83aedf8f-99e1-4c8f-ae32-64480d469228 button.colab-df-convert');\n",
              "        buttonEl.style.display =\n",
              "          google.colab.kernel.accessAllowed ? 'block' : 'none';\n",
              "\n",
              "        async function convertToInteractive(key) {\n",
              "          const element = document.querySelector('#df-83aedf8f-99e1-4c8f-ae32-64480d469228');\n",
              "          const dataTable =\n",
              "            await google.colab.kernel.invokeFunction('convertToInteractive',\n",
              "                                                     [key], {});\n",
              "          if (!dataTable) return;\n",
              "\n",
              "          const docLinkHtml = 'Like what you see? Visit the ' +\n",
              "            '<a target=\"_blank\" href=https://colab.research.google.com/notebooks/data_table.ipynb>data table notebook</a>'\n",
              "            + ' to learn more about interactive tables.';\n",
              "          element.innerHTML = '';\n",
              "          dataTable['output_type'] = 'display_data';\n",
              "          await google.colab.output.renderOutput(dataTable, element);\n",
              "          const docLink = document.createElement('div');\n",
              "          docLink.innerHTML = docLinkHtml;\n",
              "          element.appendChild(docLink);\n",
              "        }\n",
              "      </script>\n",
              "    </div>\n",
              "  </div>\n",
              "  "
            ]
          },
          "metadata": {},
          "execution_count": 27
        }
      ]
    },
    {
      "cell_type": "code",
      "source": [
        "above_1071 = df[df['release']>1071]"
      ],
      "metadata": {
        "id": "2sScys4ix5FT"
      },
      "execution_count": 28,
      "outputs": []
    },
    {
      "cell_type": "code",
      "source": [
        "above_1071.release.describe()\n",
        "\n",
        "#now minimum year of release is 1955"
      ],
      "metadata": {
        "colab": {
          "base_uri": "https://localhost:8080/"
        },
        "id": "s70qpW36yAAW",
        "outputId": "3c4e4f6f-83cc-4f9d-c756-bae6a5dc01f5"
      },
      "execution_count": 29,
      "outputs": [
        {
          "output_type": "execute_result",
          "data": {
            "text/plain": [
              "count    1652.000000\n",
              "mean     1978.565375\n",
              "std         9.308364\n",
              "min      1955.000000\n",
              "25%      1971.000000\n",
              "50%      1977.000000\n",
              "75%      1984.000000\n",
              "max      2014.000000\n",
              "Name: release, dtype: float64"
            ]
          },
          "metadata": {},
          "execution_count": 29
        }
      ]
    },
    {
      "cell_type": "code",
      "source": [
        "above_1071.iloc[400:403]\n",
        "\n",
        "#now Row 547 has been removed!"
      ],
      "metadata": {
        "colab": {
          "base_uri": "https://localhost:8080/",
          "height": 187
        },
        "id": "pOpTSBcPyN1Z",
        "outputId": "150f7699-a1b6-45e1-8d73-1450f44960d3"
      },
      "execution_count": 30,
      "outputs": [
        {
          "output_type": "execute_result",
          "data": {
            "text/plain": [
              "                        song      artist  release  \\\n",
              "546                Honky Cat  Elton John     1972   \n",
              "548  Madman Across The Water  Elton John     1971   \n",
              "549               Rocket Man  Elton John     1972   \n",
              "\n",
              "                               song_artist  first  year  playcount  fg  \n",
              "546                Honky Cat by Elton John      1     1          2   2  \n",
              "548  Madman Across The Water by Elton John      1     1          1   1  \n",
              "549               Rocket Man by Elton John      1     1         68  68  "
            ],
            "text/html": [
              "\n",
              "  <div id=\"df-9d76f812-5e3f-448d-8bb0-ff23d0741ec5\">\n",
              "    <div class=\"colab-df-container\">\n",
              "      <div>\n",
              "<style scoped>\n",
              "    .dataframe tbody tr th:only-of-type {\n",
              "        vertical-align: middle;\n",
              "    }\n",
              "\n",
              "    .dataframe tbody tr th {\n",
              "        vertical-align: top;\n",
              "    }\n",
              "\n",
              "    .dataframe thead th {\n",
              "        text-align: right;\n",
              "    }\n",
              "</style>\n",
              "<table border=\"1\" class=\"dataframe\">\n",
              "  <thead>\n",
              "    <tr style=\"text-align: right;\">\n",
              "      <th></th>\n",
              "      <th>song</th>\n",
              "      <th>artist</th>\n",
              "      <th>release</th>\n",
              "      <th>song_artist</th>\n",
              "      <th>first</th>\n",
              "      <th>year</th>\n",
              "      <th>playcount</th>\n",
              "      <th>fg</th>\n",
              "    </tr>\n",
              "  </thead>\n",
              "  <tbody>\n",
              "    <tr>\n",
              "      <th>546</th>\n",
              "      <td>Honky Cat</td>\n",
              "      <td>Elton John</td>\n",
              "      <td>1972</td>\n",
              "      <td>Honky Cat by Elton John</td>\n",
              "      <td>1</td>\n",
              "      <td>1</td>\n",
              "      <td>2</td>\n",
              "      <td>2</td>\n",
              "    </tr>\n",
              "    <tr>\n",
              "      <th>548</th>\n",
              "      <td>Madman Across The Water</td>\n",
              "      <td>Elton John</td>\n",
              "      <td>1971</td>\n",
              "      <td>Madman Across The Water by Elton John</td>\n",
              "      <td>1</td>\n",
              "      <td>1</td>\n",
              "      <td>1</td>\n",
              "      <td>1</td>\n",
              "    </tr>\n",
              "    <tr>\n",
              "      <th>549</th>\n",
              "      <td>Rocket Man</td>\n",
              "      <td>Elton John</td>\n",
              "      <td>1972</td>\n",
              "      <td>Rocket Man by Elton John</td>\n",
              "      <td>1</td>\n",
              "      <td>1</td>\n",
              "      <td>68</td>\n",
              "      <td>68</td>\n",
              "    </tr>\n",
              "  </tbody>\n",
              "</table>\n",
              "</div>\n",
              "      <button class=\"colab-df-convert\" onclick=\"convertToInteractive('df-9d76f812-5e3f-448d-8bb0-ff23d0741ec5')\"\n",
              "              title=\"Convert this dataframe to an interactive table.\"\n",
              "              style=\"display:none;\">\n",
              "        \n",
              "  <svg xmlns=\"http://www.w3.org/2000/svg\" height=\"24px\"viewBox=\"0 0 24 24\"\n",
              "       width=\"24px\">\n",
              "    <path d=\"M0 0h24v24H0V0z\" fill=\"none\"/>\n",
              "    <path d=\"M18.56 5.44l.94 2.06.94-2.06 2.06-.94-2.06-.94-.94-2.06-.94 2.06-2.06.94zm-11 1L8.5 8.5l.94-2.06 2.06-.94-2.06-.94L8.5 2.5l-.94 2.06-2.06.94zm10 10l.94 2.06.94-2.06 2.06-.94-2.06-.94-.94-2.06-.94 2.06-2.06.94z\"/><path d=\"M17.41 7.96l-1.37-1.37c-.4-.4-.92-.59-1.43-.59-.52 0-1.04.2-1.43.59L10.3 9.45l-7.72 7.72c-.78.78-.78 2.05 0 2.83L4 21.41c.39.39.9.59 1.41.59.51 0 1.02-.2 1.41-.59l7.78-7.78 2.81-2.81c.8-.78.8-2.07 0-2.86zM5.41 20L4 18.59l7.72-7.72 1.47 1.35L5.41 20z\"/>\n",
              "  </svg>\n",
              "      </button>\n",
              "      \n",
              "  <style>\n",
              "    .colab-df-container {\n",
              "      display:flex;\n",
              "      flex-wrap:wrap;\n",
              "      gap: 12px;\n",
              "    }\n",
              "\n",
              "    .colab-df-convert {\n",
              "      background-color: #E8F0FE;\n",
              "      border: none;\n",
              "      border-radius: 50%;\n",
              "      cursor: pointer;\n",
              "      display: none;\n",
              "      fill: #1967D2;\n",
              "      height: 32px;\n",
              "      padding: 0 0 0 0;\n",
              "      width: 32px;\n",
              "    }\n",
              "\n",
              "    .colab-df-convert:hover {\n",
              "      background-color: #E2EBFA;\n",
              "      box-shadow: 0px 1px 2px rgba(60, 64, 67, 0.3), 0px 1px 3px 1px rgba(60, 64, 67, 0.15);\n",
              "      fill: #174EA6;\n",
              "    }\n",
              "\n",
              "    [theme=dark] .colab-df-convert {\n",
              "      background-color: #3B4455;\n",
              "      fill: #D2E3FC;\n",
              "    }\n",
              "\n",
              "    [theme=dark] .colab-df-convert:hover {\n",
              "      background-color: #434B5C;\n",
              "      box-shadow: 0px 1px 3px 1px rgba(0, 0, 0, 0.15);\n",
              "      filter: drop-shadow(0px 1px 2px rgba(0, 0, 0, 0.3));\n",
              "      fill: #FFFFFF;\n",
              "    }\n",
              "  </style>\n",
              "\n",
              "      <script>\n",
              "        const buttonEl =\n",
              "          document.querySelector('#df-9d76f812-5e3f-448d-8bb0-ff23d0741ec5 button.colab-df-convert');\n",
              "        buttonEl.style.display =\n",
              "          google.colab.kernel.accessAllowed ? 'block' : 'none';\n",
              "\n",
              "        async function convertToInteractive(key) {\n",
              "          const element = document.querySelector('#df-9d76f812-5e3f-448d-8bb0-ff23d0741ec5');\n",
              "          const dataTable =\n",
              "            await google.colab.kernel.invokeFunction('convertToInteractive',\n",
              "                                                     [key], {});\n",
              "          if (!dataTable) return;\n",
              "\n",
              "          const docLinkHtml = 'Like what you see? Visit the ' +\n",
              "            '<a target=\"_blank\" href=https://colab.research.google.com/notebooks/data_table.ipynb>data table notebook</a>'\n",
              "            + ' to learn more about interactive tables.';\n",
              "          element.innerHTML = '';\n",
              "          dataTable['output_type'] = 'display_data';\n",
              "          await google.colab.output.renderOutput(dataTable, element);\n",
              "          const docLink = document.createElement('div');\n",
              "          docLink.innerHTML = docLinkHtml;\n",
              "          element.appendChild(docLink);\n",
              "        }\n",
              "      </script>\n",
              "    </div>\n",
              "  </div>\n",
              "  "
            ]
          },
          "metadata": {},
          "execution_count": 30
        }
      ]
    },
    {
      "cell_type": "markdown",
      "source": [
        "\n",
        "\n",
        "---\n",
        "\n"
      ],
      "metadata": {
        "id": "04NAr1FOQjjc"
      }
    },
    {
      "cell_type": "markdown",
      "source": [
        "#Step 5: Creating a Function to Validate if Release Year < 1970"
      ],
      "metadata": {
        "id": "XpI3Pj61fkIN"
      }
    },
    {
      "cell_type": "markdown",
      "source": [
        "##5a) Create the Function"
      ],
      "metadata": {
        "id": "w1Vsuv_Sg6el"
      }
    },
    {
      "cell_type": "code",
      "source": [
        "def release_inspector(row):\n",
        "    print('---------------------------------------------------------')\n",
        "    print('Title:', row['song'],'|', \n",
        "          'Artiste:', row['artist'], '|', \n",
        "          'Release:', row['release'], '|', \n",
        "          'Is it < 1970?:',  \n",
        "          row['release'] < 1970)\n",
        "    return None"
      ],
      "metadata": {
        "id": "8tutLUTNgIim"
      },
      "execution_count": 60,
      "outputs": []
    },
    {
      "cell_type": "markdown",
      "source": [
        "##5b) Apply the Function"
      ],
      "metadata": {
        "id": "xgLtSDFZj7vE"
      }
    },
    {
      "cell_type": "code",
      "source": [
        "df.sample(5).apply(release_inspector, axis = 1)"
      ],
      "metadata": {
        "colab": {
          "base_uri": "https://localhost:8080/"
        },
        "id": "BBrRXV3OhL7T",
        "outputId": "86934aff-808e-47da-be49-3a6a31541c16"
      },
      "execution_count": 61,
      "outputs": [
        {
          "output_type": "stream",
          "name": "stdout",
          "text": [
            "---------------------------------------------------------\n",
            "Title: Those Shoes | Artiste: Eagles | Release: 1979 | Is it < 1970?: False\n",
            "---------------------------------------------------------\n",
            "Title: Atomic Punk | Artiste: Van Halen | Release: 0 | Is it < 1970?: True\n",
            "---------------------------------------------------------\n",
            "Title: Mista Bone | Artiste: Great White | Release: 0 | Is it < 1970?: True\n",
            "---------------------------------------------------------\n",
            "Title: You Better Run | Artiste: Pat Benatar | Release: 1980 | Is it < 1970?: False\n",
            "---------------------------------------------------------\n",
            "Title: Funk #49 | Artiste: Joe Walsh | Release: 2012 | Is it < 1970?: False\n"
          ]
        },
        {
          "output_type": "execute_result",
          "data": {
            "text/plain": [
              "513     None\n",
              "2117    None\n",
              "730     None\n",
              "1239    None\n",
              "904     None\n",
              "dtype: object"
            ]
          },
          "metadata": {},
          "execution_count": 61
        }
      ]
    },
    {
      "cell_type": "markdown",
      "source": [
        "\n",
        "\n",
        "---\n",
        "\n"
      ],
      "metadata": {
        "id": "zssNaVfkfjBN"
      }
    },
    {
      "cell_type": "markdown",
      "source": [
        "#THE END"
      ],
      "metadata": {
        "id": "ygFzegEjQkoH"
      }
    }
  ]
}